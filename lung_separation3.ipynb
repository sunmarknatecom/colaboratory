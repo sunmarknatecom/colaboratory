{
  "nbformat": 4,
  "nbformat_minor": 0,
  "metadata": {
    "colab": {
      "name": "lung_separation3.ipynb",
      "provenance": [],
      "collapsed_sections": [],
      "machine_shape": "hm",
      "mount_file_id": "1iY18AmfsH32nB2aHL2QZLT2ixB_Cc_tQ",
      "authorship_tag": "ABX9TyMAA6DOHV2BcblMqHWOdnus",
      "include_colab_link": true
    },
    "kernelspec": {
      "name": "python3",
      "display_name": "Python 3"
    },
    "accelerator": "GPU"
  },
  "cells": [
    {
      "cell_type": "markdown",
      "metadata": {
        "id": "view-in-github",
        "colab_type": "text"
      },
      "source": [
        "<a href=\"https://colab.research.google.com/github/sunmarknatecom/colaboratory/blob/master/lung_separation3.ipynb\" target=\"_parent\"><img src=\"https://colab.research.google.com/assets/colab-badge.svg\" alt=\"Open In Colab\"/></a>"
      ]
    },
    {
      "cell_type": "code",
      "metadata": {
        "id": "tr_luN0PXrxu",
        "colab_type": "code",
        "outputId": "d048b937-22cd-44e3-81f6-0a668187f76a",
        "colab": {
          "base_uri": "https://localhost:8080/",
          "height": 55
        }
      },
      "source": [
        "from google.colab import drive\n",
        "drive.mount('/content/drive')"
      ],
      "execution_count": 0,
      "outputs": [
        {
          "output_type": "stream",
          "text": [
            "Drive already mounted at /content/drive; to attempt to forcibly remount, call drive.mount(\"/content/drive\", force_remount=True).\n"
          ],
          "name": "stdout"
        }
      ]
    },
    {
      "cell_type": "code",
      "metadata": {
        "id": "A9Be6R1lXo4_",
        "colab_type": "code",
        "outputId": "8c4ae0a1-a57d-4594-8bef-6ca9d16fa93d",
        "colab": {
          "base_uri": "https://localhost:8080/",
          "height": 127
        }
      },
      "source": [
        "!pip install pydicom\n"
      ],
      "execution_count": 0,
      "outputs": [
        {
          "output_type": "stream",
          "text": [
            "Collecting pydicom\n",
            "\u001b[?25l  Downloading https://files.pythonhosted.org/packages/c0/ea/b05a0051a579acc8026e46a889354774a0da9d31f42aaa1af35a1f0e4a43/pydicom-1.4.1-py2.py3-none-any.whl (35.1MB)\n",
            "\u001b[K     |████████████████████████████████| 35.1MB 100kB/s \n",
            "\u001b[?25hInstalling collected packages: pydicom\n",
            "Successfully installed pydicom-1.4.1\n"
          ],
          "name": "stdout"
        }
      ]
    },
    {
      "cell_type": "code",
      "metadata": {
        "id": "QXmjtq0Gasv9",
        "colab_type": "code",
        "outputId": "0f7d4a06-bc20-4fdf-edbc-20f6dc9caf07",
        "colab": {
          "base_uri": "https://localhost:8080/",
          "height": 81
        }
      },
      "source": [
        "import pandas as pd\n",
        "import numpy as np\n",
        "import pydicom\n",
        "import matplotlib.pyplot as plt\n",
        "import cv2\n",
        "\n",
        "from tensorflow.keras.models import Sequential\n",
        "from tensorflow.keras.layers import Conv2D, MaxPooling2D, Dense, Flatten, Dropout"
      ],
      "execution_count": 0,
      "outputs": [
        {
          "output_type": "display_data",
          "data": {
            "text/html": [
              "<p style=\"color: red;\">\n",
              "The default version of TensorFlow in Colab will soon switch to TensorFlow 2.x.<br>\n",
              "We recommend you <a href=\"https://www.tensorflow.org/guide/migrate\" target=\"_blank\">upgrade</a> now \n",
              "or ensure your notebook will continue to use TensorFlow 1.x via the <code>%tensorflow_version 1.x</code> magic:\n",
              "<a href=\"https://colab.research.google.com/notebooks/tensorflow_version.ipynb\" target=\"_blank\">more info</a>.</p>\n"
            ],
            "text/plain": [
              "<IPython.core.display.HTML object>"
            ]
          },
          "metadata": {
            "tags": []
          }
        }
      ]
    },
    {
      "cell_type": "code",
      "metadata": {
        "id": "fgMkT2VafK-X",
        "colab_type": "code",
        "colab": {}
      },
      "source": [
        "def create_dataset(a, b, c, d):\n",
        "    df_list = []\n",
        "    for i in range(c): # c\n",
        "        path = \"./drive/My Drive/dataset/\" + d\n",
        "        fn = \"/IM-0001-0%03d.dcm\" %(i+1)\n",
        "        filename = path + fn\n",
        "        ds = pydicom.dcmread(filename)\n",
        "        df = ds.pixel_array\n",
        "        df_3_ch = cv2.merge([df, df, df])\n",
        "        # df_nor = (df_3_ch - np.min(df))/(np.max(df)-np.min(df))\n",
        "        df_nor_array = df_3_ch.astype('float64')\n",
        "        df_list.append(df_nor_array)\n",
        "    df_array = np.array(df_list)\n",
        "    x_train = df_array.reshape(df_array.shape[0], 512, 512, 3).astype('float64')\n",
        "    y_train = np.zeros((c), dtype=int) # c\n",
        "    for i in range(a-1, b): # a+1, b\n",
        "        y_train[i] = 1\n",
        "\n",
        "    return x_train, y_train"
      ],
      "execution_count": 0,
      "outputs": []
    },
    {
      "cell_type": "code",
      "metadata": {
        "id": "EEqKVHi9fSl1",
        "colab_type": "code",
        "colab": {}
      },
      "source": [
        "x_train_1, y_train_1 = create_dataset(71,128,275,\"pt01\")\n",
        "x_train_2, y_train_2 = create_dataset(69,130,263,\"pt02\")\n",
        "x_train_3, y_train_3 = create_dataset(1,213,262,\"pt04\")\n",
        "x_test, y_test = create_dataset(71,144,285,\"pt03\")"
      ],
      "execution_count": 0,
      "outputs": []
    },
    {
      "cell_type": "code",
      "metadata": {
        "id": "dngaVbLjuFqk",
        "colab_type": "code",
        "outputId": "704e7128-c972-48ba-a281-0c644360b925",
        "colab": {
          "base_uri": "https://localhost:8080/",
          "height": 233
        }
      },
      "source": [
        "y_train_3"
      ],
      "execution_count": 0,
      "outputs": [
        {
          "output_type": "execute_result",
          "data": {
            "text/plain": [
              "array([1, 1, 1, 1, 1, 1, 1, 1, 1, 1, 1, 1, 1, 1, 1, 1, 1, 1, 1, 1, 1, 1,\n",
              "       1, 1, 1, 1, 1, 1, 1, 1, 1, 1, 1, 1, 1, 1, 1, 1, 1, 1, 1, 1, 1, 1,\n",
              "       1, 1, 1, 1, 1, 1, 1, 1, 1, 1, 1, 1, 1, 1, 1, 1, 1, 1, 1, 1, 1, 1,\n",
              "       1, 1, 1, 1, 1, 1, 1, 1, 1, 1, 1, 1, 1, 1, 1, 1, 1, 1, 1, 1, 1, 1,\n",
              "       1, 1, 1, 1, 1, 1, 1, 1, 1, 1, 1, 1, 1, 1, 1, 1, 1, 1, 1, 1, 1, 1,\n",
              "       1, 1, 1, 1, 1, 1, 1, 1, 1, 1, 1, 1, 1, 1, 1, 1, 1, 1, 1, 1, 1, 1,\n",
              "       1, 1, 1, 1, 1, 1, 1, 1, 1, 1, 1, 1, 1, 1, 1, 1, 1, 1, 1, 1, 1, 1,\n",
              "       1, 1, 1, 1, 1, 1, 1, 1, 1, 1, 1, 1, 1, 1, 1, 1, 1, 1, 1, 1, 1, 1,\n",
              "       1, 1, 1, 1, 1, 1, 1, 1, 1, 1, 1, 1, 1, 1, 1, 1, 1, 1, 1, 1, 1, 1,\n",
              "       1, 1, 1, 1, 1, 1, 1, 1, 1, 1, 1, 1, 1, 1, 1, 0, 0, 0, 0, 0, 0, 0,\n",
              "       0, 0, 0, 0, 0, 0, 0, 0, 0, 0, 0, 0, 0, 0, 0, 0, 0, 0, 0, 0, 0, 0,\n",
              "       0, 0, 0, 0, 0, 0, 0, 0, 0, 0, 0, 0, 0, 0, 0, 0, 0, 0, 0, 0])"
            ]
          },
          "metadata": {
            "tags": []
          },
          "execution_count": 6
        }
      ]
    },
    {
      "cell_type": "code",
      "metadata": {
        "id": "7OZChLv4uJ5a",
        "colab_type": "code",
        "outputId": "08570c89-2a9e-41c6-acae-7bc2c0d2d07e",
        "colab": {
          "base_uri": "https://localhost:8080/",
          "height": 35
        }
      },
      "source": [
        "np.shape(y_train_3)"
      ],
      "execution_count": 0,
      "outputs": [
        {
          "output_type": "execute_result",
          "data": {
            "text/plain": [
              "(262,)"
            ]
          },
          "metadata": {
            "tags": []
          },
          "execution_count": 7
        }
      ]
    },
    {
      "cell_type": "code",
      "metadata": {
        "id": "pGp8iLx3uMlJ",
        "colab_type": "code",
        "colab": {}
      },
      "source": [
        "for i in range(213):\n",
        "    y_train_3[i] = 0\n",
        "for i in range(49):\n",
        "    y_train_3[i+213] = 1"
      ],
      "execution_count": 0,
      "outputs": []
    },
    {
      "cell_type": "code",
      "metadata": {
        "id": "h88Sl_w0vrsu",
        "colab_type": "code",
        "outputId": "e47dda3d-b184-4e2d-a298-fe78d4422bb7",
        "colab": {
          "base_uri": "https://localhost:8080/",
          "height": 233
        }
      },
      "source": [
        "y_train_3"
      ],
      "execution_count": 0,
      "outputs": [
        {
          "output_type": "execute_result",
          "data": {
            "text/plain": [
              "array([0, 0, 0, 0, 0, 0, 0, 0, 0, 0, 0, 0, 0, 0, 0, 0, 0, 0, 0, 0, 0, 0,\n",
              "       0, 0, 0, 0, 0, 0, 0, 0, 0, 0, 0, 0, 0, 0, 0, 0, 0, 0, 0, 0, 0, 0,\n",
              "       0, 0, 0, 0, 0, 0, 0, 0, 0, 0, 0, 0, 0, 0, 0, 0, 0, 0, 0, 0, 0, 0,\n",
              "       0, 0, 0, 0, 0, 0, 0, 0, 0, 0, 0, 0, 0, 0, 0, 0, 0, 0, 0, 0, 0, 0,\n",
              "       0, 0, 0, 0, 0, 0, 0, 0, 0, 0, 0, 0, 0, 0, 0, 0, 0, 0, 0, 0, 0, 0,\n",
              "       0, 0, 0, 0, 0, 0, 0, 0, 0, 0, 0, 0, 0, 0, 0, 0, 0, 0, 0, 0, 0, 0,\n",
              "       0, 0, 0, 0, 0, 0, 0, 0, 0, 0, 0, 0, 0, 0, 0, 0, 0, 0, 0, 0, 0, 0,\n",
              "       0, 0, 0, 0, 0, 0, 0, 0, 0, 0, 0, 0, 0, 0, 0, 0, 0, 0, 0, 0, 0, 0,\n",
              "       0, 0, 0, 0, 0, 0, 0, 0, 0, 0, 0, 0, 0, 0, 0, 0, 0, 0, 0, 0, 0, 0,\n",
              "       0, 0, 0, 0, 0, 0, 0, 0, 0, 0, 0, 0, 0, 0, 0, 1, 1, 1, 1, 1, 1, 1,\n",
              "       1, 1, 1, 1, 1, 1, 1, 1, 1, 1, 1, 1, 1, 1, 1, 1, 1, 1, 1, 1, 1, 1,\n",
              "       1, 1, 1, 1, 1, 1, 1, 1, 1, 1, 1, 1, 1, 1, 1, 1, 1, 1, 1, 1])"
            ]
          },
          "metadata": {
            "tags": []
          },
          "execution_count": 9
        }
      ]
    },
    {
      "cell_type": "code",
      "metadata": {
        "id": "Zj0dUk2PgQ9t",
        "colab_type": "code",
        "colab": {}
      },
      "source": [
        "# data preparation\n",
        "# import pydicom\n",
        "# import matplotlib.pyplot as plt\n",
        "# ds_list = []\n",
        "# for i in range(782):\n",
        "#     fn = pydicom.dcmread(\"000%03d.dcm\" %i)\n",
        "#     ds = fn.pixel_array\n",
        "#     plt.imshow(ds, interpolation='bicubic', cmap='Greys')\n",
        "#     plt.title(\"%03d\" %i)\n",
        "#     plt.xticks([])\n",
        "#     plt.yticks([])\n",
        "#     plt.show()\n",
        "\n",
        "# 01 71-128 275 (lung not_lung)\n",
        "# 02 69-130 263 (lung not_lung)\n",
        "# 03 71-144 285 (lung not_lung)\n",
        "# 04 1-213(not lung) 263 (lung)"
      ],
      "execution_count": 0,
      "outputs": []
    },
    {
      "cell_type": "code",
      "metadata": {
        "id": "UYVxXujvhnPO",
        "colab_type": "code",
        "colab": {}
      },
      "source": [
        "x_train = np.concatenate((x_train_1, x_train_2), axis=0)\n",
        "x_train = np.concatenate((x_train_3, x_train), axis=0)\n",
        "y_train = np.concatenate((y_train_1, y_train_2), axis=0)\n",
        "y_train = np.concatenate((y_train_3, y_train), axis=0)"
      ],
      "execution_count": 0,
      "outputs": []
    },
    {
      "cell_type": "code",
      "metadata": {
        "id": "YX8haeBGh2V0",
        "colab_type": "code",
        "outputId": "f04b887f-1781-4703-eee7-e1b8250e2cd4",
        "colab": {
          "base_uri": "https://localhost:8080/",
          "height": 1000
        }
      },
      "source": [
        "model = Sequential()\n",
        "model.add(Conv2D(64, (3, 3), activation='relu', input_shape=(512, 512, 3)))\n",
        "model.add(Conv2D(64, (3, 3), activation='relu'))\n",
        "model.add(MaxPooling2D((2, 2)))\n",
        "model.add(Conv2D(128, (3, 3), activation='relu'))\n",
        "model.add(Conv2D(128, (3, 3), activation='relu'))\n",
        "model.add(MaxPooling2D((2, 2)))\n",
        "model.add(Conv2D(256, (3, 3), activation='relu'))\n",
        "model.add(Conv2D(256, (3, 3), activation='relu'))\n",
        "model.add(Conv2D(256, (3, 3), activation='relu'))\n",
        "model.add(MaxPooling2D((2, 2)))\n",
        "model.add(Conv2D(512, (3, 3), activation='relu'))\n",
        "model.add(Conv2D(512, (3, 3), activation='relu'))\n",
        "model.add(Conv2D(512, (3, 3), activation='relu'))\n",
        "model.add(MaxPooling2D((2, 2)))\n",
        "model.add(Conv2D(512, (3, 3), activation='relu'))\n",
        "model.add(Conv2D(512, (3, 3), activation='relu'))\n",
        "model.add(Conv2D(512, (3, 3), activation='relu'))\n",
        "model.add(MaxPooling2D((2, 2)))\n",
        "model.add(Flatten())\n",
        "model.add(Dense(1024, activation='relu'))\n",
        "model.add(Dropout(0.5))\n",
        "model.add(Dense(1, activation='sigmoid'))\n",
        "model.summary()"
      ],
      "execution_count": 0,
      "outputs": [
        {
          "output_type": "stream",
          "text": [
            "WARNING:tensorflow:From /usr/local/lib/python3.6/dist-packages/tensorflow_core/python/ops/resource_variable_ops.py:1630: calling BaseResourceVariable.__init__ (from tensorflow.python.ops.resource_variable_ops) with constraint is deprecated and will be removed in a future version.\n",
            "Instructions for updating:\n",
            "If using Keras pass *_constraint arguments to layers.\n",
            "Model: \"sequential\"\n",
            "_________________________________________________________________\n",
            "Layer (type)                 Output Shape              Param #   \n",
            "=================================================================\n",
            "conv2d (Conv2D)              (None, 510, 510, 64)      1792      \n",
            "_________________________________________________________________\n",
            "conv2d_1 (Conv2D)            (None, 508, 508, 64)      36928     \n",
            "_________________________________________________________________\n",
            "max_pooling2d (MaxPooling2D) (None, 254, 254, 64)      0         \n",
            "_________________________________________________________________\n",
            "conv2d_2 (Conv2D)            (None, 252, 252, 128)     73856     \n",
            "_________________________________________________________________\n",
            "conv2d_3 (Conv2D)            (None, 250, 250, 128)     147584    \n",
            "_________________________________________________________________\n",
            "max_pooling2d_1 (MaxPooling2 (None, 125, 125, 128)     0         \n",
            "_________________________________________________________________\n",
            "conv2d_4 (Conv2D)            (None, 123, 123, 256)     295168    \n",
            "_________________________________________________________________\n",
            "conv2d_5 (Conv2D)            (None, 121, 121, 256)     590080    \n",
            "_________________________________________________________________\n",
            "conv2d_6 (Conv2D)            (None, 119, 119, 256)     590080    \n",
            "_________________________________________________________________\n",
            "max_pooling2d_2 (MaxPooling2 (None, 59, 59, 256)       0         \n",
            "_________________________________________________________________\n",
            "conv2d_7 (Conv2D)            (None, 57, 57, 512)       1180160   \n",
            "_________________________________________________________________\n",
            "conv2d_8 (Conv2D)            (None, 55, 55, 512)       2359808   \n",
            "_________________________________________________________________\n",
            "conv2d_9 (Conv2D)            (None, 53, 53, 512)       2359808   \n",
            "_________________________________________________________________\n",
            "max_pooling2d_3 (MaxPooling2 (None, 26, 26, 512)       0         \n",
            "_________________________________________________________________\n",
            "conv2d_10 (Conv2D)           (None, 24, 24, 512)       2359808   \n",
            "_________________________________________________________________\n",
            "conv2d_11 (Conv2D)           (None, 22, 22, 512)       2359808   \n",
            "_________________________________________________________________\n",
            "conv2d_12 (Conv2D)           (None, 20, 20, 512)       2359808   \n",
            "_________________________________________________________________\n",
            "max_pooling2d_4 (MaxPooling2 (None, 10, 10, 512)       0         \n",
            "_________________________________________________________________\n",
            "flatten (Flatten)            (None, 51200)             0         \n",
            "_________________________________________________________________\n",
            "dense (Dense)                (None, 1024)              52429824  \n",
            "_________________________________________________________________\n",
            "dropout (Dropout)            (None, 1024)              0         \n",
            "_________________________________________________________________\n",
            "dense_1 (Dense)              (None, 1)                 1025      \n",
            "=================================================================\n",
            "Total params: 67,145,537\n",
            "Trainable params: 67,145,537\n",
            "Non-trainable params: 0\n",
            "_________________________________________________________________\n"
          ],
          "name": "stdout"
        }
      ]
    },
    {
      "cell_type": "code",
      "metadata": {
        "id": "7iDJQsgSbk9_",
        "colab_type": "code",
        "colab": {}
      },
      "source": [
        "from tensorflow.keras import optimizers"
      ],
      "execution_count": 0,
      "outputs": []
    },
    {
      "cell_type": "code",
      "metadata": {
        "id": "ULu0jTW7h6V9",
        "colab_type": "code",
        "outputId": "7fda92c5-66d5-4f57-fa4e-da7c39fd6faa",
        "colab": {
          "base_uri": "https://localhost:8080/",
          "height": 91
        }
      },
      "source": [
        "model.compile(loss='binary_crossentropy', optimizer=optimizers.Adam(lr=1e-4), metrics=['accuracy'])"
      ],
      "execution_count": 0,
      "outputs": [
        {
          "output_type": "stream",
          "text": [
            "WARNING:tensorflow:From /usr/local/lib/python3.6/dist-packages/tensorflow_core/python/ops/nn_impl.py:183: where (from tensorflow.python.ops.array_ops) is deprecated and will be removed in a future version.\n",
            "Instructions for updating:\n",
            "Use tf.where in 2.0, which has the same broadcast rule as np.where\n"
          ],
          "name": "stdout"
        }
      ]
    },
    {
      "cell_type": "code",
      "metadata": {
        "id": "VDRSPP2Ph9h1",
        "colab_type": "code",
        "outputId": "45c1681f-ae01-4c81-d343-3dc90b10585d",
        "colab": {
          "base_uri": "https://localhost:8080/",
          "height": 775
        }
      },
      "source": [
        "history = model.fit(x_train, y_train, validation_data=(x_test, y_test), epochs=20, batch_size=15)"
      ],
      "execution_count": 0,
      "outputs": [
        {
          "output_type": "stream",
          "text": [
            "Train on 800 samples, validate on 285 samples\n",
            "Epoch 1/20\n",
            "800/800 [==============================] - 45s 56ms/sample - loss: 1.3355 - acc: 0.7862 - val_loss: 0.2413 - val_acc: 0.8982\n",
            "Epoch 2/20\n",
            "800/800 [==============================] - 33s 41ms/sample - loss: 0.1875 - acc: 0.9375 - val_loss: 0.0686 - val_acc: 0.9684\n",
            "Epoch 3/20\n",
            "800/800 [==============================] - 33s 41ms/sample - loss: 0.1263 - acc: 0.9650 - val_loss: 0.3345 - val_acc: 0.9193\n",
            "Epoch 4/20\n",
            "800/800 [==============================] - 33s 41ms/sample - loss: 0.0820 - acc: 0.9762 - val_loss: 0.2439 - val_acc: 0.9368\n",
            "Epoch 5/20\n",
            "800/800 [==============================] - 33s 41ms/sample - loss: 0.0791 - acc: 0.9737 - val_loss: 0.0914 - val_acc: 0.9579\n",
            "Epoch 6/20\n",
            "800/800 [==============================] - 33s 41ms/sample - loss: 0.0736 - acc: 0.9725 - val_loss: 0.3009 - val_acc: 0.9544\n",
            "Epoch 7/20\n",
            "800/800 [==============================] - 33s 41ms/sample - loss: 0.0959 - acc: 0.9737 - val_loss: 0.1239 - val_acc: 0.9544\n",
            "Epoch 8/20\n",
            "800/800 [==============================] - 33s 41ms/sample - loss: 0.0511 - acc: 0.9887 - val_loss: 0.2075 - val_acc: 0.9263\n",
            "Epoch 9/20\n",
            "800/800 [==============================] - 33s 41ms/sample - loss: 0.0480 - acc: 0.9825 - val_loss: 0.0656 - val_acc: 0.9719\n",
            "Epoch 10/20\n",
            "800/800 [==============================] - 33s 41ms/sample - loss: 0.0328 - acc: 0.9875 - val_loss: 0.1933 - val_acc: 0.9509\n",
            "Epoch 11/20\n",
            "800/800 [==============================] - 33s 41ms/sample - loss: 0.0193 - acc: 0.9937 - val_loss: 0.2332 - val_acc: 0.9474\n",
            "Epoch 12/20\n",
            "800/800 [==============================] - 33s 41ms/sample - loss: 0.0212 - acc: 0.9912 - val_loss: 0.1905 - val_acc: 0.9298\n",
            "Epoch 13/20\n",
            "800/800 [==============================] - 33s 41ms/sample - loss: 0.0172 - acc: 0.9937 - val_loss: 0.1565 - val_acc: 0.9544\n",
            "Epoch 14/20\n",
            "800/800 [==============================] - 33s 41ms/sample - loss: 0.0151 - acc: 0.9925 - val_loss: 0.3105 - val_acc: 0.9439\n",
            "Epoch 15/20\n",
            "800/800 [==============================] - 33s 41ms/sample - loss: 0.0297 - acc: 0.9900 - val_loss: 0.1133 - val_acc: 0.9649\n",
            "Epoch 16/20\n",
            "800/800 [==============================] - 33s 41ms/sample - loss: 0.0235 - acc: 0.9900 - val_loss: 0.1636 - val_acc: 0.9614\n",
            "Epoch 17/20\n",
            "800/800 [==============================] - 33s 41ms/sample - loss: 0.0235 - acc: 0.9937 - val_loss: 0.4023 - val_acc: 0.9158\n",
            "Epoch 18/20\n",
            "800/800 [==============================] - 33s 41ms/sample - loss: 0.0139 - acc: 0.9962 - val_loss: 0.7407 - val_acc: 0.9158\n",
            "Epoch 19/20\n",
            "800/800 [==============================] - 33s 41ms/sample - loss: 0.0313 - acc: 0.9912 - val_loss: 0.1928 - val_acc: 0.9579\n",
            "Epoch 20/20\n",
            "800/800 [==============================] - 33s 41ms/sample - loss: 0.0133 - acc: 0.9925 - val_loss: 0.0773 - val_acc: 0.9719\n"
          ],
          "name": "stdout"
        }
      ]
    },
    {
      "cell_type": "code",
      "metadata": {
        "id": "QGSOSznF2sNs",
        "colab_type": "code",
        "outputId": "f36195ed-5df9-42e9-fe13-2e2eb9cb527f",
        "colab": {
          "base_uri": "https://localhost:8080/",
          "height": 899
        }
      },
      "source": [
        "x_train[170]"
      ],
      "execution_count": 0,
      "outputs": [
        {
          "output_type": "execute_result",
          "data": {
            "text/plain": [
              "array([[[-2048., -2048., -2048.],\n",
              "        [-2048., -2048., -2048.],\n",
              "        [-2048., -2048., -2048.],\n",
              "        ...,\n",
              "        [-2048., -2048., -2048.],\n",
              "        [-2048., -2048., -2048.],\n",
              "        [-2048., -2048., -2048.]],\n",
              "\n",
              "       [[-2048., -2048., -2048.],\n",
              "        [-2048., -2048., -2048.],\n",
              "        [-2048., -2048., -2048.],\n",
              "        ...,\n",
              "        [-2048., -2048., -2048.],\n",
              "        [-2048., -2048., -2048.],\n",
              "        [-2048., -2048., -2048.]],\n",
              "\n",
              "       [[-2048., -2048., -2048.],\n",
              "        [-2048., -2048., -2048.],\n",
              "        [-2048., -2048., -2048.],\n",
              "        ...,\n",
              "        [-2048., -2048., -2048.],\n",
              "        [-2048., -2048., -2048.],\n",
              "        [-2048., -2048., -2048.]],\n",
              "\n",
              "       ...,\n",
              "\n",
              "       [[-2048., -2048., -2048.],\n",
              "        [-2048., -2048., -2048.],\n",
              "        [-2048., -2048., -2048.],\n",
              "        ...,\n",
              "        [-2048., -2048., -2048.],\n",
              "        [-2048., -2048., -2048.],\n",
              "        [-2048., -2048., -2048.]],\n",
              "\n",
              "       [[-2048., -2048., -2048.],\n",
              "        [-2048., -2048., -2048.],\n",
              "        [-2048., -2048., -2048.],\n",
              "        ...,\n",
              "        [-2048., -2048., -2048.],\n",
              "        [-2048., -2048., -2048.],\n",
              "        [-2048., -2048., -2048.]],\n",
              "\n",
              "       [[-2048., -2048., -2048.],\n",
              "        [-2048., -2048., -2048.],\n",
              "        [-2048., -2048., -2048.],\n",
              "        ...,\n",
              "        [-2048., -2048., -2048.],\n",
              "        [-2048., -2048., -2048.],\n",
              "        [-2048., -2048., -2048.]]])"
            ]
          },
          "metadata": {
            "tags": []
          },
          "execution_count": 19
        }
      ]
    },
    {
      "cell_type": "code",
      "metadata": {
        "id": "EIJXGuqBaw3X",
        "colab_type": "code",
        "outputId": "012a852c-9f92-43fc-d993-e2530a33c8cb",
        "colab": {
          "base_uri": "https://localhost:8080/",
          "height": 270
        }
      },
      "source": [
        "plt.imshow(x_train[220], interpolation='bicubic', cmap='Greys')\n",
        "plt.xticks([])\n",
        "plt.yticks([])\n",
        "plt.show()"
      ],
      "execution_count": 0,
      "outputs": [
        {
          "output_type": "stream",
          "text": [
            "Clipping input data to the valid range for imshow with RGB data ([0..1] for floats or [0..255] for integers).\n"
          ],
          "name": "stderr"
        },
        {
          "output_type": "display_data",
          "data": {
            "image/png": "[encoded data removed]",
            "text/plain": [
              "<Figure size 432x288 with 1 Axes>"
            ]
          },
          "metadata": {
            "tags": []
          }
        }
      ]
    },
    {
      "cell_type": "code",
      "metadata": {
        "id": "BFBVE-APil_o",
        "colab_type": "code",
        "colab": {}
      },
      "source": [
        "np.save(\"./drive/My Drive/dataset/x_train.npz\", x_train)"
      ],
      "execution_count": 0,
      "outputs": []
    },
    {
      "cell_type": "code",
      "metadata": {
        "id": "1wVj2AoQi954",
        "colab_type": "code",
        "colab": {}
      },
      "source": [
        "np.save(\"./drive/My Drive/dataset/y_train.npz\", y_train)"
      ],
      "execution_count": 0,
      "outputs": []
    },
    {
      "cell_type": "code",
      "metadata": {
        "id": "0sqDyR_cjDj1",
        "colab_type": "code",
        "colab": {}
      },
      "source": [
        "np.save(\"./drive/My Drive/dataset/x_test.npz\", x_test)"
      ],
      "execution_count": 0,
      "outputs": []
    },
    {
      "cell_type": "code",
      "metadata": {
        "id": "HLV93n8_jIvQ",
        "colab_type": "code",
        "colab": {}
      },
      "source": [
        "np.save(\"./drive/My Drive/dataset/y_test.npz\", y_test)"
      ],
      "execution_count": 0,
      "outputs": []
    },
    {
      "cell_type": "code",
      "metadata": {
        "id": "hsYHoWM4h_er",
        "colab_type": "code",
        "outputId": "a1d3000b-727e-4f00-8462-2ab48dde8b80",
        "colab": {
          "base_uri": "https://localhost:8080/",
          "height": 899
        }
      },
      "source": [
        "x_train[220]"
      ],
      "execution_count": 0,
      "outputs": [
        {
          "output_type": "execute_result",
          "data": {
            "text/plain": [
              "array([[[-2048., -2048., -2048.],\n",
              "        [-2048., -2048., -2048.],\n",
              "        [-2048., -2048., -2048.],\n",
              "        ...,\n",
              "        [-2048., -2048., -2048.],\n",
              "        [-2048., -2048., -2048.],\n",
              "        [-2048., -2048., -2048.]],\n",
              "\n",
              "       [[-2048., -2048., -2048.],\n",
              "        [-2048., -2048., -2048.],\n",
              "        [-2048., -2048., -2048.],\n",
              "        ...,\n",
              "        [-2048., -2048., -2048.],\n",
              "        [-2048., -2048., -2048.],\n",
              "        [-2048., -2048., -2048.]],\n",
              "\n",
              "       [[-2048., -2048., -2048.],\n",
              "        [-2048., -2048., -2048.],\n",
              "        [-2048., -2048., -2048.],\n",
              "        ...,\n",
              "        [-2048., -2048., -2048.],\n",
              "        [-2048., -2048., -2048.],\n",
              "        [-2048., -2048., -2048.]],\n",
              "\n",
              "       ...,\n",
              "\n",
              "       [[-2048., -2048., -2048.],\n",
              "        [-2048., -2048., -2048.],\n",
              "        [-2048., -2048., -2048.],\n",
              "        ...,\n",
              "        [-2048., -2048., -2048.],\n",
              "        [-2048., -2048., -2048.],\n",
              "        [-2048., -2048., -2048.]],\n",
              "\n",
              "       [[-2048., -2048., -2048.],\n",
              "        [-2048., -2048., -2048.],\n",
              "        [-2048., -2048., -2048.],\n",
              "        ...,\n",
              "        [-2048., -2048., -2048.],\n",
              "        [-2048., -2048., -2048.],\n",
              "        [-2048., -2048., -2048.]],\n",
              "\n",
              "       [[-2048., -2048., -2048.],\n",
              "        [-2048., -2048., -2048.],\n",
              "        [-2048., -2048., -2048.],\n",
              "        ...,\n",
              "        [-2048., -2048., -2048.],\n",
              "        [-2048., -2048., -2048.],\n",
              "        [-2048., -2048., -2048.]]])"
            ]
          },
          "metadata": {
            "tags": []
          },
          "execution_count": 26
        }
      ]
    },
    {
      "cell_type": "code",
      "metadata": {
        "id": "PRFIFQ7wiLFM",
        "colab_type": "code",
        "outputId": "59bf7381-ae41-48e6-b0b6-6ef55daf2c79",
        "colab": {
          "base_uri": "https://localhost:8080/",
          "height": 53
        }
      },
      "source": [
        "model.evaluate(x_test, y_test)"
      ],
      "execution_count": 0,
      "outputs": [
        {
          "output_type": "stream",
          "text": [
            "285/285 [==============================] - 9s 31ms/sample - loss: 0.0773 - acc: 0.9719\n"
          ],
          "name": "stdout"
        },
        {
          "output_type": "execute_result",
          "data": {
            "text/plain": [
              "[0.07732065713932945, 0.97192985]"
            ]
          },
          "metadata": {
            "tags": []
          },
          "execution_count": 27
        }
      ]
    },
    {
      "cell_type": "code",
      "metadata": {
        "id": "GQ1HruGPUdkV",
        "colab_type": "code",
        "colab": {}
      },
      "source": [
        "val_data = cv2.merge([x_train[250], x_train[250], x_train[250]])"
      ],
      "execution_count": 0,
      "outputs": []
    },
    {
      "cell_type": "code",
      "metadata": {
        "id": "aKene_DSq5gn",
        "colab_type": "code",
        "outputId": "19cd2aa5-bbe9-4de1-d5f4-1399dc5b4923",
        "colab": {
          "base_uri": "https://localhost:8080/",
          "height": 71
        }
      },
      "source": [
        "model.predict(val_data.reshape(3, 512, 512, 3))"
      ],
      "execution_count": 0,
      "outputs": [
        {
          "output_type": "execute_result",
          "data": {
            "text/plain": [
              "array([[0.6101516 ],\n",
              "       [0.5996798 ],\n",
              "       [0.59599227]], dtype=float32)"
            ]
          },
          "metadata": {
            "tags": []
          },
          "execution_count": 31
        }
      ]
    },
    {
      "cell_type": "code",
      "metadata": {
        "id": "Pb6RuawalELA",
        "colab_type": "code",
        "outputId": "d6a8db24-8704-41ea-f48e-bd4b2f132eea",
        "colab": {
          "base_uri": "https://localhost:8080/",
          "height": 545
        }
      },
      "source": [
        "acc = history.history['acc']\n",
        "val_acc = history.history['val_acc']\n",
        "loss = history.history['loss']\n",
        "val_loss = history.history['val_loss']\n",
        "\n",
        "epochs_n = range(2,len(acc)+1)\n",
        "\n",
        "plt.plot(epochs_n, acc[1:], 'bo', label='training_accuracy')\n",
        "plt.plot(epochs_n, val_acc[1:], 'b', label='val_accuracy')\n",
        "plt.legend()\n",
        "plt.title('Training and validation accuracy')\n",
        "plt.figure()\n",
        "\n",
        "plt.plot(epochs_n, loss[1:], 'bo', label='training_loss')\n",
        "plt.plot(epochs_n, val_loss[1:], 'b', label='val_loss')\n",
        "plt.legend()\n",
        "plt.title('Training and validation loss')\n",
        "plt.show()"
      ],
      "execution_count": 0,
      "outputs": [
        {
          "output_type": "display_data",
          "data": {
            "image/png": "[encoded data removed]",
            "text/plain": [
              "<Figure size 432x288 with 1 Axes>"
            ]
          },
          "metadata": {
            "tags": []
          }
        },
        {
          "output_type": "display_data",
          "data": {
            "image/png": "[encoded data removed]",
            "text/plain": [
              "<Figure size 432x288 with 1 Axes>"
            ]
          },
          "metadata": {
            "tags": []
          }
        }
      ]
    },
    {
      "cell_type": "code",
      "metadata": {
        "id": "g6vsLpNMDriJ",
        "colab_type": "code",
        "colab": {}
      },
      "source": [
        "model.save('./drive/My Drive/lung_separation_2.h5')"
      ],
      "execution_count": 0,
      "outputs": []
    },
    {
      "cell_type": "code",
      "metadata": {
        "id": "jI4ac_vmEtxu",
        "colab_type": "code",
        "outputId": "151d178c-a0c8-4edf-c6e7-3a5a87b4a5fe",
        "colab": {
          "base_uri": "https://localhost:8080/",
          "height": 35
        }
      },
      "source": [
        "import os\n",
        "os.getcwd()"
      ],
      "execution_count": 0,
      "outputs": [
        {
          "output_type": "execute_result",
          "data": {
            "text/plain": [
              "'/content'"
            ]
          },
          "metadata": {
            "tags": []
          },
          "execution_count": 35
        }
      ]
    },
    {
      "cell_type": "code",
      "metadata": {
        "id": "htsVbDR_Ewd_",
        "colab_type": "code",
        "colab": {}
      },
      "source": [
        "from tensorflow.keras.models import load_model\n",
        "import tensorflow as tf"
      ],
      "execution_count": 0,
      "outputs": []
    },
    {
      "cell_type": "code",
      "metadata": {
        "id": "g0Iehb67FKwq",
        "colab_type": "code",
        "outputId": "744b675e-52a7-4683-98d3-ac51ec76d2ac",
        "colab": {
          "base_uri": "https://localhost:8080/",
          "height": 253
        }
      },
      "source": [
        "model = load_model('./drive/My Drive/dataset/lung_separation_2.h5')"
      ],
      "execution_count": 0,
      "outputs": [
        {
          "output_type": "stream",
          "text": [
            "WARNING:tensorflow:From /usr/local/lib/python3.6/dist-packages/tensorflow_core/python/ops/init_ops.py:97: calling GlorotUniform.__init__ (from tensorflow.python.ops.init_ops) with dtype is deprecated and will be removed in a future version.\n",
            "Instructions for updating:\n",
            "Call initializer instance with the dtype argument instead of passing it to the constructor\n",
            "WARNING:tensorflow:From /usr/local/lib/python3.6/dist-packages/tensorflow_core/python/ops/init_ops.py:97: calling Zeros.__init__ (from tensorflow.python.ops.init_ops) with dtype is deprecated and will be removed in a future version.\n",
            "Instructions for updating:\n",
            "Call initializer instance with the dtype argument instead of passing it to the constructor\n",
            "WARNING:tensorflow:From /usr/local/lib/python3.6/dist-packages/tensorflow_core/python/ops/resource_variable_ops.py:1630: calling BaseResourceVariable.__init__ (from tensorflow.python.ops.resource_variable_ops) with constraint is deprecated and will be removed in a future version.\n",
            "Instructions for updating:\n",
            "If using Keras pass *_constraint arguments to layers.\n",
            "WARNING:tensorflow:From /usr/local/lib/python3.6/dist-packages/tensorflow_core/python/ops/nn_impl.py:183: where (from tensorflow.python.ops.array_ops) is deprecated and will be removed in a future version.\n",
            "Instructions for updating:\n",
            "Use tf.where in 2.0, which has the same broadcast rule as np.where\n"
          ],
          "name": "stdout"
        }
      ]
    },
    {
      "cell_type": "code",
      "metadata": {
        "id": "YJs7I0iEFODN",
        "colab_type": "code",
        "outputId": "43da7837-553c-44a5-dd21-5561528bcb2b",
        "colab": {
          "base_uri": "https://localhost:8080/",
          "height": 35
        }
      },
      "source": [
        "model.predict(x_train[252].reshape(1, 512, 512, 3))"
      ],
      "execution_count": 0,
      "outputs": [
        {
          "output_type": "execute_result",
          "data": {
            "text/plain": [
              "array([[0.998004]], dtype=float32)"
            ]
          },
          "metadata": {
            "tags": []
          },
          "execution_count": 38
        }
      ]
    },
    {
      "cell_type": "code",
      "metadata": {
        "id": "j4HEVUZkFoLM",
        "colab_type": "code",
        "outputId": "26dc6ec2-2fec-42f9-b88d-b0f0b3626e8c",
        "colab": {
          "base_uri": "https://localhost:8080/",
          "height": 287
        }
      },
      "source": [
        "plt.imshow(x_train[252].reshape(512,512,3), interpolation='bicubic', cmap='Greys')\n",
        "plt.show()"
      ],
      "execution_count": 0,
      "outputs": [
        {
          "output_type": "stream",
          "text": [
            "Clipping input data to the valid range for imshow with RGB data ([0..1] for floats or [0..255] for integers).\n"
          ],
          "name": "stderr"
        },
        {
          "output_type": "display_data",
          "data": {
            "image/png": "[encoded data removed]",
            "text/plain": [
              "<Figure size 432x288 with 1 Axes>"
            ]
          },
          "metadata": {
            "tags": []
          }
        }
      ]
    },
    {
      "cell_type": "code",
      "metadata": {
        "id": "r2z6cCYKFtl0",
        "colab_type": "code",
        "colab": {}
      },
      "source": [
        "from tensorflow.keras.preprocessing import image\n",
        "img = x_train[252]\n",
        "img = img.reshape(1, 512, 512, 3)"
      ],
      "execution_count": 0,
      "outputs": []
    },
    {
      "cell_type": "code",
      "metadata": {
        "id": "vgccFPrhkicN",
        "colab_type": "code",
        "outputId": "e2846e71-80a2-42a8-b8cd-68e557e14682",
        "colab": {
          "base_uri": "https://localhost:8080/",
          "height": 53
        }
      },
      "source": [
        "from tensorflow.keras.applications.vgg16 import preprocess_input, decode_predictions\n",
        "from keras import backend as K\n",
        "import cv2\n",
        "\n",
        "img = img.reshape(512, 512,3)\n",
        "# img_cv2 = cv2.merge([img, img, img])\n",
        "# img_nor = preprocess_input(img_cv2)\n",
        "np.shape(img)"
      ],
      "execution_count": 0,
      "outputs": [
        {
          "output_type": "stream",
          "text": [
            "Using TensorFlow backend.\n"
          ],
          "name": "stderr"
        },
        {
          "output_type": "execute_result",
          "data": {
            "text/plain": [
              "(512, 512, 3)"
            ]
          },
          "metadata": {
            "tags": []
          },
          "execution_count": 41
        }
      ]
    },
    {
      "cell_type": "code",
      "metadata": {
        "id": "xVAxPDidkv52",
        "colab_type": "code",
        "colab": {}
      },
      "source": [
        "lung_output = model.output[:,0]"
      ],
      "execution_count": 0,
      "outputs": []
    },
    {
      "cell_type": "code",
      "metadata": {
        "id": "Mn6uGGnu5yWo",
        "colab_type": "code",
        "outputId": "eae685be-cf7b-4990-e20b-43b7c258b421",
        "colab": {
          "base_uri": "https://localhost:8080/",
          "height": 172
        }
      },
      "source": [
        "tf.Session.run(lung_output)"
      ],
      "execution_count": 0,
      "outputs": [
        {
          "output_type": "error",
          "ename": "TypeError",
          "evalue": "ignored",
          "traceback": [
            "\u001b[0;31m---------------------------------------------------------------------------\u001b[0m",
            "\u001b[0;31mTypeError\u001b[0m                                 Traceback (most recent call last)",
            "\u001b[0;32m<ipython-input-43-9375dbbee5c4>\u001b[0m in \u001b[0;36m<module>\u001b[0;34m()\u001b[0m\n\u001b[0;32m----> 1\u001b[0;31m \u001b[0mtf\u001b[0m\u001b[0;34m.\u001b[0m\u001b[0mSession\u001b[0m\u001b[0;34m.\u001b[0m\u001b[0mrun\u001b[0m\u001b[0;34m(\u001b[0m\u001b[0mlung_output\u001b[0m\u001b[0;34m)\u001b[0m\u001b[0;34m\u001b[0m\u001b[0;34m\u001b[0m\u001b[0m\n\u001b[0m",
            "\u001b[0;31mTypeError\u001b[0m: run() missing 1 required positional argument: 'fetches'"
          ]
        }
      ]
    },
    {
      "cell_type": "code",
      "metadata": {
        "id": "HThgYV7SLIPu",
        "colab_type": "code",
        "colab": {}
      },
      "source": [
        "last_conv_layer = model.get_layer('conv2d_12')"
      ],
      "execution_count": 0,
      "outputs": []
    },
    {
      "cell_type": "code",
      "metadata": {
        "id": "ab6r5SW0lACL",
        "colab_type": "code",
        "colab": {}
      },
      "source": [
        "grads = K.gradients(lung_output, last_conv_layer.output)[0]"
      ],
      "execution_count": 0,
      "outputs": []
    },
    {
      "cell_type": "code",
      "metadata": {
        "id": "dECIAAeNlG2H",
        "colab_type": "code",
        "colab": {}
      },
      "source": [
        "pooled_grads = K.mean(grads, axis=(0, 1, 2))"
      ],
      "execution_count": 0,
      "outputs": []
    },
    {
      "cell_type": "code",
      "metadata": {
        "id": "HNGpQJMkmH0O",
        "colab_type": "code",
        "outputId": "0548b53e-037f-4d76-f747-e8c83bcb53c7",
        "colab": {
          "base_uri": "https://localhost:8080/",
          "height": 35
        }
      },
      "source": [
        "pooled_grads"
      ],
      "execution_count": 0,
      "outputs": [
        {
          "output_type": "execute_result",
          "data": {
            "text/plain": [
              "<tf.Tensor 'Mean:0' shape=(512,) dtype=float32>"
            ]
          },
          "metadata": {
            "tags": []
          },
          "execution_count": 39
        }
      ]
    },
    {
      "cell_type": "code",
      "metadata": {
        "id": "GB_t7-9ZlOGQ",
        "colab_type": "code",
        "colab": {}
      },
      "source": [
        "iterate = K.function([model.input], [pooled_grads, last_conv_layer.output])"
      ],
      "execution_count": 0,
      "outputs": []
    },
    {
      "cell_type": "code",
      "metadata": {
        "id": "lGC-jHctmtCF",
        "colab_type": "code",
        "outputId": "83ca5a8b-0cb8-44e0-a3a7-b9013bc8f0c2",
        "colab": {
          "base_uri": "https://localhost:8080/",
          "height": 35
        }
      },
      "source": [
        "iterate"
      ],
      "execution_count": 0,
      "outputs": [
        {
          "output_type": "execute_result",
          "data": {
            "text/plain": [
              "<keras.backend.tensorflow_backend.Function at 0x7f71e86936a0>"
            ]
          },
          "metadata": {
            "tags": []
          },
          "execution_count": 41
        }
      ]
    },
    {
      "cell_type": "code",
      "metadata": {
        "id": "hjM5C41Xm7lU",
        "colab_type": "code",
        "colab": {}
      },
      "source": [
        "b, g, r = cv2.split(img_nor)\n",
        "np.shape(b)\n",
        "img_single_channel = b.reshape(1, 512, 512,1)"
      ],
      "execution_count": 0,
      "outputs": []
    },
    {
      "cell_type": "code",
      "metadata": {
        "id": "x7HqPwTS2BCD",
        "colab_type": "code",
        "outputId": "10d0e3ce-2939-4fb7-8663-5205a620b56c",
        "colab": {
          "base_uri": "https://localhost:8080/",
          "height": 35
        }
      },
      "source": [
        "np.shape(b)"
      ],
      "execution_count": 0,
      "outputs": [
        {
          "output_type": "execute_result",
          "data": {
            "text/plain": [
              "(512, 512)"
            ]
          },
          "metadata": {
            "tags": []
          },
          "execution_count": 55
        }
      ]
    },
    {
      "cell_type": "code",
      "metadata": {
        "id": "f_l96g1v2S_6",
        "colab_type": "code",
        "outputId": "79097844-478a-46cb-deed-23e6ddf21534",
        "colab": {
          "base_uri": "https://localhost:8080/",
          "height": 35
        }
      },
      "source": [
        "np.shape(img_single_channel)"
      ],
      "execution_count": 0,
      "outputs": [
        {
          "output_type": "execute_result",
          "data": {
            "text/plain": [
              "(1, 512, 512, 1)"
            ]
          },
          "metadata": {
            "tags": []
          },
          "execution_count": 56
        }
      ]
    },
    {
      "cell_type": "code",
      "metadata": {
        "id": "len_9X5ylVFV",
        "colab_type": "code",
        "outputId": "d1a171cf-8f9f-43fa-a607-3d89dbafe1d8",
        "colab": {
          "base_uri": "https://localhost:8080/",
          "height": 468
        }
      },
      "source": [
        "pooled_grads_value, conv_layer_output_value = iterate([img])"
      ],
      "execution_count": 0,
      "outputs": [
        {
          "output_type": "stream",
          "text": [
            "WARNING:tensorflow:From /usr/local/lib/python3.6/dist-packages/keras/backend/tensorflow_backend.py:190: The name tf.get_default_session is deprecated. Please use tf.compat.v1.get_default_session instead.\n",
            "\n",
            "WARNING:tensorflow:From /usr/local/lib/python3.6/dist-packages/keras/backend/tensorflow_backend.py:197: The name tf.ConfigProto is deprecated. Please use tf.compat.v1.ConfigProto instead.\n",
            "\n",
            "WARNING:tensorflow:From /usr/local/lib/python3.6/dist-packages/keras/backend/tensorflow_backend.py:207: The name tf.global_variables is deprecated. Please use tf.compat.v1.global_variables instead.\n",
            "\n"
          ],
          "name": "stdout"
        },
        {
          "output_type": "error",
          "ename": "FailedPreconditionError",
          "evalue": "ignored",
          "traceback": [
            "\u001b[0;31m---------------------------------------------------------------------------\u001b[0m",
            "\u001b[0;31mFailedPreconditionError\u001b[0m                   Traceback (most recent call last)",
            "\u001b[0;32m<ipython-input-43-4e077bece9a2>\u001b[0m in \u001b[0;36m<module>\u001b[0;34m()\u001b[0m\n\u001b[0;32m----> 1\u001b[0;31m \u001b[0mpooled_grads_value\u001b[0m\u001b[0;34m,\u001b[0m \u001b[0mconv_layer_output_value\u001b[0m \u001b[0;34m=\u001b[0m \u001b[0miterate\u001b[0m\u001b[0;34m(\u001b[0m\u001b[0;34m[\u001b[0m\u001b[0mimg\u001b[0m\u001b[0;34m]\u001b[0m\u001b[0;34m)\u001b[0m\u001b[0;34m\u001b[0m\u001b[0;34m\u001b[0m\u001b[0m\n\u001b[0m",
            "\u001b[0;32m/usr/local/lib/python3.6/dist-packages/keras/backend/tensorflow_backend.py\u001b[0m in \u001b[0;36m__call__\u001b[0;34m(self, inputs)\u001b[0m\n\u001b[1;32m   2977\u001b[0m                     \u001b[0;32mreturn\u001b[0m \u001b[0mself\u001b[0m\u001b[0;34m.\u001b[0m\u001b[0m_legacy_call\u001b[0m\u001b[0;34m(\u001b[0m\u001b[0minputs\u001b[0m\u001b[0;34m)\u001b[0m\u001b[0;34m\u001b[0m\u001b[0;34m\u001b[0m\u001b[0m\n\u001b[1;32m   2978\u001b[0m \u001b[0;34m\u001b[0m\u001b[0m\n\u001b[0;32m-> 2979\u001b[0;31m             \u001b[0;32mreturn\u001b[0m \u001b[0mself\u001b[0m\u001b[0;34m.\u001b[0m\u001b[0m_call\u001b[0m\u001b[0;34m(\u001b[0m\u001b[0minputs\u001b[0m\u001b[0;34m)\u001b[0m\u001b[0;34m\u001b[0m\u001b[0;34m\u001b[0m\u001b[0m\n\u001b[0m\u001b[1;32m   2980\u001b[0m         \u001b[0;32melse\u001b[0m\u001b[0;34m:\u001b[0m\u001b[0;34m\u001b[0m\u001b[0;34m\u001b[0m\u001b[0m\n\u001b[1;32m   2981\u001b[0m             \u001b[0;32mif\u001b[0m \u001b[0mpy_any\u001b[0m\u001b[0;34m(\u001b[0m\u001b[0mis_tensor\u001b[0m\u001b[0;34m(\u001b[0m\u001b[0mx\u001b[0m\u001b[0;34m)\u001b[0m \u001b[0;32mfor\u001b[0m \u001b[0mx\u001b[0m \u001b[0;32min\u001b[0m \u001b[0minputs\u001b[0m\u001b[0;34m)\u001b[0m\u001b[0;34m:\u001b[0m\u001b[0;34m\u001b[0m\u001b[0;34m\u001b[0m\u001b[0m\n",
            "\u001b[0;32m/usr/local/lib/python3.6/dist-packages/keras/backend/tensorflow_backend.py\u001b[0m in \u001b[0;36m_call\u001b[0;34m(self, inputs)\u001b[0m\n\u001b[1;32m   2935\u001b[0m             \u001b[0mfetched\u001b[0m \u001b[0;34m=\u001b[0m \u001b[0mself\u001b[0m\u001b[0;34m.\u001b[0m\u001b[0m_callable_fn\u001b[0m\u001b[0;34m(\u001b[0m\u001b[0;34m*\u001b[0m\u001b[0marray_vals\u001b[0m\u001b[0;34m,\u001b[0m \u001b[0mrun_metadata\u001b[0m\u001b[0;34m=\u001b[0m\u001b[0mself\u001b[0m\u001b[0;34m.\u001b[0m\u001b[0mrun_metadata\u001b[0m\u001b[0;34m)\u001b[0m\u001b[0;34m\u001b[0m\u001b[0;34m\u001b[0m\u001b[0m\n\u001b[1;32m   2936\u001b[0m         \u001b[0;32melse\u001b[0m\u001b[0;34m:\u001b[0m\u001b[0;34m\u001b[0m\u001b[0;34m\u001b[0m\u001b[0m\n\u001b[0;32m-> 2937\u001b[0;31m             \u001b[0mfetched\u001b[0m \u001b[0;34m=\u001b[0m \u001b[0mself\u001b[0m\u001b[0;34m.\u001b[0m\u001b[0m_callable_fn\u001b[0m\u001b[0;34m(\u001b[0m\u001b[0;34m*\u001b[0m\u001b[0marray_vals\u001b[0m\u001b[0;34m)\u001b[0m\u001b[0;34m\u001b[0m\u001b[0;34m\u001b[0m\u001b[0m\n\u001b[0m\u001b[1;32m   2938\u001b[0m         \u001b[0;32mreturn\u001b[0m \u001b[0mfetched\u001b[0m\u001b[0;34m[\u001b[0m\u001b[0;34m:\u001b[0m\u001b[0mlen\u001b[0m\u001b[0;34m(\u001b[0m\u001b[0mself\u001b[0m\u001b[0;34m.\u001b[0m\u001b[0moutputs\u001b[0m\u001b[0;34m)\u001b[0m\u001b[0;34m]\u001b[0m\u001b[0;34m\u001b[0m\u001b[0;34m\u001b[0m\u001b[0m\n\u001b[1;32m   2939\u001b[0m \u001b[0;34m\u001b[0m\u001b[0m\n",
            "\u001b[0;32m/usr/local/lib/python3.6/dist-packages/tensorflow_core/python/client/session.py\u001b[0m in \u001b[0;36m__call__\u001b[0;34m(self, *args, **kwargs)\u001b[0m\n\u001b[1;32m   1470\u001b[0m         ret = tf_session.TF_SessionRunCallable(self._session._session,\n\u001b[1;32m   1471\u001b[0m                                                \u001b[0mself\u001b[0m\u001b[0;34m.\u001b[0m\u001b[0m_handle\u001b[0m\u001b[0;34m,\u001b[0m \u001b[0margs\u001b[0m\u001b[0;34m,\u001b[0m\u001b[0;34m\u001b[0m\u001b[0;34m\u001b[0m\u001b[0m\n\u001b[0;32m-> 1472\u001b[0;31m                                                run_metadata_ptr)\n\u001b[0m\u001b[1;32m   1473\u001b[0m         \u001b[0;32mif\u001b[0m \u001b[0mrun_metadata\u001b[0m\u001b[0;34m:\u001b[0m\u001b[0;34m\u001b[0m\u001b[0;34m\u001b[0m\u001b[0m\n\u001b[1;32m   1474\u001b[0m           \u001b[0mproto_data\u001b[0m \u001b[0;34m=\u001b[0m \u001b[0mtf_session\u001b[0m\u001b[0;34m.\u001b[0m\u001b[0mTF_GetBuffer\u001b[0m\u001b[0;34m(\u001b[0m\u001b[0mrun_metadata_ptr\u001b[0m\u001b[0;34m)\u001b[0m\u001b[0;34m\u001b[0m\u001b[0;34m\u001b[0m\u001b[0m\n",
            "\u001b[0;31mFailedPreconditionError\u001b[0m: Error while reading resource variable conv2d_8/kernel from Container: localhost. This could mean that the variable was uninitialized. Not found: Container localhost does not exist. (Could not find resource: localhost/conv2d_8/kernel)\n\t [[{{node conv2d_8/Conv2D/ReadVariableOp}}]]"
          ]
        }
      ]
    },
    {
      "cell_type": "code",
      "metadata": {
        "id": "1iF4IfmVKJcN",
        "colab_type": "code",
        "colab": {}
      },
      "source": [
        "b, g, r = cv2.split(img_nor)\n",
        "np.shape(b)\n",
        "img_single_channel = b.reshape(1, 512, 512,1)\n",
        "# b, g, r = cv2.split(img_nor)"
      ],
      "execution_count": 0,
      "outputs": []
    },
    {
      "cell_type": "code",
      "metadata": {
        "id": "9bKtgbfWKSYK",
        "colab_type": "code",
        "outputId": "265f6792-3a5a-4ec9-bae9-cbcd77581cee",
        "colab": {
          "base_uri": "https://localhost:8080/",
          "height": 35
        }
      },
      "source": [
        "preds = model.predict(img_single_channel)\n",
        "preds"
      ],
      "execution_count": 0,
      "outputs": [
        {
          "output_type": "execute_result",
          "data": {
            "text/plain": [
              "array([[0.9937489]], dtype=float32)"
            ]
          },
          "metadata": {
            "tags": []
          },
          "execution_count": 49
        }
      ]
    },
    {
      "cell_type": "code",
      "metadata": {
        "id": "U3jHHDRkL1t1",
        "colab_type": "code",
        "outputId": "bf3d2589-b97d-44a0-dbce-6fe37e83cffb",
        "colab": {
          "base_uri": "https://localhost:8080/",
          "height": 35
        }
      },
      "source": [
        "preds[0]"
      ],
      "execution_count": 0,
      "outputs": [
        {
          "output_type": "execute_result",
          "data": {
            "text/plain": [
              "array([0.9937489], dtype=float32)"
            ]
          },
          "metadata": {
            "tags": []
          },
          "execution_count": 50
        }
      ]
    },
    {
      "cell_type": "code",
      "metadata": {
        "id": "7SvDjvfbP09o",
        "colab_type": "code",
        "outputId": "342b7318-5f46-4006-cf21-52f83505ba14",
        "colab": {
          "base_uri": "https://localhost:8080/",
          "height": 35
        }
      },
      "source": [
        "lung_output = model.output[:,0]\n",
        "lung_output"
      ],
      "execution_count": 0,
      "outputs": [
        {
          "output_type": "execute_result",
          "data": {
            "text/plain": [
              "<tf.Tensor 'strided_slice_7:0' shape=(?,) dtype=float32>"
            ]
          },
          "metadata": {
            "tags": []
          },
          "execution_count": 60
        }
      ]
    },
    {
      "cell_type": "code",
      "metadata": {
        "id": "bS8lCd36RPY_",
        "colab_type": "code",
        "outputId": "566cb765-59f0-48f3-9214-37de70c4cfda",
        "colab": {
          "base_uri": "https://localhost:8080/",
          "height": 953
        }
      },
      "source": [
        "model.summary()"
      ],
      "execution_count": 0,
      "outputs": [
        {
          "output_type": "stream",
          "text": [
            "Model: \"sequential_1\"\n",
            "_________________________________________________________________\n",
            "Layer (type)                 Output Shape              Param #   \n",
            "=================================================================\n",
            "conv2d_13 (Conv2D)           (None, 510, 510, 64)      640       \n",
            "_________________________________________________________________\n",
            "conv2d_14 (Conv2D)           (None, 508, 508, 64)      36928     \n",
            "_________________________________________________________________\n",
            "max_pooling2d_5 (MaxPooling2 (None, 254, 254, 64)      0         \n",
            "_________________________________________________________________\n",
            "conv2d_15 (Conv2D)           (None, 252, 252, 128)     73856     \n",
            "_________________________________________________________________\n",
            "conv2d_16 (Conv2D)           (None, 250, 250, 128)     147584    \n",
            "_________________________________________________________________\n",
            "max_pooling2d_6 (MaxPooling2 (None, 125, 125, 128)     0         \n",
            "_________________________________________________________________\n",
            "conv2d_17 (Conv2D)           (None, 123, 123, 256)     295168    \n",
            "_________________________________________________________________\n",
            "conv2d_18 (Conv2D)           (None, 121, 121, 256)     590080    \n",
            "_________________________________________________________________\n",
            "conv2d_19 (Conv2D)           (None, 119, 119, 256)     590080    \n",
            "_________________________________________________________________\n",
            "max_pooling2d_7 (MaxPooling2 (None, 59, 59, 256)       0         \n",
            "_________________________________________________________________\n",
            "conv2d_20 (Conv2D)           (None, 57, 57, 512)       1180160   \n",
            "_________________________________________________________________\n",
            "conv2d_21 (Conv2D)           (None, 55, 55, 512)       2359808   \n",
            "_________________________________________________________________\n",
            "conv2d_22 (Conv2D)           (None, 53, 53, 512)       2359808   \n",
            "_________________________________________________________________\n",
            "max_pooling2d_8 (MaxPooling2 (None, 26, 26, 512)       0         \n",
            "_________________________________________________________________\n",
            "conv2d_23 (Conv2D)           (None, 24, 24, 512)       2359808   \n",
            "_________________________________________________________________\n",
            "conv2d_24 (Conv2D)           (None, 22, 22, 512)       2359808   \n",
            "_________________________________________________________________\n",
            "conv2d_25 (Conv2D)           (None, 20, 20, 512)       2359808   \n",
            "_________________________________________________________________\n",
            "max_pooling2d_9 (MaxPooling2 (None, 10, 10, 512)       0         \n",
            "_________________________________________________________________\n",
            "flatten_1 (Flatten)          (None, 51200)             0         \n",
            "_________________________________________________________________\n",
            "dense_2 (Dense)              (None, 1024)              52429824  \n",
            "_________________________________________________________________\n",
            "dropout_1 (Dropout)          (None, 1024)              0         \n",
            "_________________________________________________________________\n",
            "dense_3 (Dense)              (None, 1)                 1025      \n",
            "=================================================================\n",
            "Total params: 67,144,385\n",
            "Trainable params: 67,144,385\n",
            "Non-trainable params: 0\n",
            "_________________________________________________________________\n"
          ],
          "name": "stdout"
        }
      ]
    },
    {
      "cell_type": "code",
      "metadata": {
        "id": "syJdcPNQRHZB",
        "colab_type": "code",
        "colab": {}
      },
      "source": [
        "last_conv_layer = model.get_layer('conv2d_12')"
      ],
      "execution_count": 0,
      "outputs": []
    },
    {
      "cell_type": "code",
      "metadata": {
        "id": "Nn8PaSWCRXXW",
        "colab_type": "code",
        "colab": {}
      },
      "source": [
        "grads = K.gradients(lung_output, last_conv_layer.output)[0]"
      ],
      "execution_count": 0,
      "outputs": []
    },
    {
      "cell_type": "code",
      "metadata": {
        "id": "xANqfdBQRvb-",
        "colab_type": "code",
        "colab": {}
      },
      "source": [
        "pooled_grads = K.mean(grads, axis=(0))"
      ],
      "execution_count": 0,
      "outputs": []
    },
    {
      "cell_type": "code",
      "metadata": {
        "id": "rakS0HyL15PO",
        "colab_type": "code",
        "colab": {}
      },
      "source": [
        ""
      ],
      "execution_count": 0,
      "outputs": []
    },
    {
      "cell_type": "code",
      "metadata": {
        "id": "EmOFzfyNR_OI",
        "colab_type": "code",
        "colab": {}
      },
      "source": [
        "iterate = K.function([model.input], [pooled_grads, last_conv_layer.output[0]])"
      ],
      "execution_count": 0,
      "outputs": []
    },
    {
      "cell_type": "code",
      "metadata": {
        "id": "kzJiDzJTSGDg",
        "colab_type": "code",
        "outputId": "24a63b5d-57ac-4200-bce8-f6f7acdf3f14",
        "colab": {
          "base_uri": "https://localhost:8080/",
          "height": 468
        }
      },
      "source": [
        "pooled_grads_value, conv_layer_output_value = iterate([img])"
      ],
      "execution_count": 0,
      "outputs": [
        {
          "output_type": "error",
          "ename": "FailedPreconditionError",
          "evalue": "ignored",
          "traceback": [
            "\u001b[0;31m---------------------------------------------------------------------------\u001b[0m",
            "\u001b[0;31mFailedPreconditionError\u001b[0m                   Traceback (most recent call last)",
            "\u001b[0;32m<ipython-input-48-4e077bece9a2>\u001b[0m in \u001b[0;36m<module>\u001b[0;34m()\u001b[0m\n\u001b[0;32m----> 1\u001b[0;31m \u001b[0mpooled_grads_value\u001b[0m\u001b[0;34m,\u001b[0m \u001b[0mconv_layer_output_value\u001b[0m \u001b[0;34m=\u001b[0m \u001b[0miterate\u001b[0m\u001b[0;34m(\u001b[0m\u001b[0;34m[\u001b[0m\u001b[0mimg\u001b[0m\u001b[0;34m]\u001b[0m\u001b[0;34m)\u001b[0m\u001b[0;34m\u001b[0m\u001b[0;34m\u001b[0m\u001b[0m\n\u001b[0m",
            "\u001b[0;32m/usr/local/lib/python3.6/dist-packages/keras/backend/tensorflow_backend.py\u001b[0m in \u001b[0;36m__call__\u001b[0;34m(self, inputs)\u001b[0m\n\u001b[1;32m   2977\u001b[0m                     \u001b[0;32mreturn\u001b[0m \u001b[0mself\u001b[0m\u001b[0;34m.\u001b[0m\u001b[0m_legacy_call\u001b[0m\u001b[0;34m(\u001b[0m\u001b[0minputs\u001b[0m\u001b[0;34m)\u001b[0m\u001b[0;34m\u001b[0m\u001b[0;34m\u001b[0m\u001b[0m\n\u001b[1;32m   2978\u001b[0m \u001b[0;34m\u001b[0m\u001b[0m\n\u001b[0;32m-> 2979\u001b[0;31m             \u001b[0;32mreturn\u001b[0m \u001b[0mself\u001b[0m\u001b[0;34m.\u001b[0m\u001b[0m_call\u001b[0m\u001b[0;34m(\u001b[0m\u001b[0minputs\u001b[0m\u001b[0;34m)\u001b[0m\u001b[0;34m\u001b[0m\u001b[0;34m\u001b[0m\u001b[0m\n\u001b[0m\u001b[1;32m   2980\u001b[0m         \u001b[0;32melse\u001b[0m\u001b[0;34m:\u001b[0m\u001b[0;34m\u001b[0m\u001b[0;34m\u001b[0m\u001b[0m\n\u001b[1;32m   2981\u001b[0m             \u001b[0;32mif\u001b[0m \u001b[0mpy_any\u001b[0m\u001b[0;34m(\u001b[0m\u001b[0mis_tensor\u001b[0m\u001b[0;34m(\u001b[0m\u001b[0mx\u001b[0m\u001b[0;34m)\u001b[0m \u001b[0;32mfor\u001b[0m \u001b[0mx\u001b[0m \u001b[0;32min\u001b[0m \u001b[0minputs\u001b[0m\u001b[0;34m)\u001b[0m\u001b[0;34m:\u001b[0m\u001b[0;34m\u001b[0m\u001b[0;34m\u001b[0m\u001b[0m\n",
            "\u001b[0;32m/usr/local/lib/python3.6/dist-packages/keras/backend/tensorflow_backend.py\u001b[0m in \u001b[0;36m_call\u001b[0;34m(self, inputs)\u001b[0m\n\u001b[1;32m   2935\u001b[0m             \u001b[0mfetched\u001b[0m \u001b[0;34m=\u001b[0m \u001b[0mself\u001b[0m\u001b[0;34m.\u001b[0m\u001b[0m_callable_fn\u001b[0m\u001b[0;34m(\u001b[0m\u001b[0;34m*\u001b[0m\u001b[0marray_vals\u001b[0m\u001b[0;34m,\u001b[0m \u001b[0mrun_metadata\u001b[0m\u001b[0;34m=\u001b[0m\u001b[0mself\u001b[0m\u001b[0;34m.\u001b[0m\u001b[0mrun_metadata\u001b[0m\u001b[0;34m)\u001b[0m\u001b[0;34m\u001b[0m\u001b[0;34m\u001b[0m\u001b[0m\n\u001b[1;32m   2936\u001b[0m         \u001b[0;32melse\u001b[0m\u001b[0;34m:\u001b[0m\u001b[0;34m\u001b[0m\u001b[0;34m\u001b[0m\u001b[0m\n\u001b[0;32m-> 2937\u001b[0;31m             \u001b[0mfetched\u001b[0m \u001b[0;34m=\u001b[0m \u001b[0mself\u001b[0m\u001b[0;34m.\u001b[0m\u001b[0m_callable_fn\u001b[0m\u001b[0;34m(\u001b[0m\u001b[0;34m*\u001b[0m\u001b[0marray_vals\u001b[0m\u001b[0;34m)\u001b[0m\u001b[0;34m\u001b[0m\u001b[0;34m\u001b[0m\u001b[0m\n\u001b[0m\u001b[1;32m   2938\u001b[0m         \u001b[0;32mreturn\u001b[0m \u001b[0mfetched\u001b[0m\u001b[0;34m[\u001b[0m\u001b[0;34m:\u001b[0m\u001b[0mlen\u001b[0m\u001b[0;34m(\u001b[0m\u001b[0mself\u001b[0m\u001b[0;34m.\u001b[0m\u001b[0moutputs\u001b[0m\u001b[0;34m)\u001b[0m\u001b[0;34m]\u001b[0m\u001b[0;34m\u001b[0m\u001b[0;34m\u001b[0m\u001b[0m\n\u001b[1;32m   2939\u001b[0m \u001b[0;34m\u001b[0m\u001b[0m\n",
            "\u001b[0;32m/usr/local/lib/python3.6/dist-packages/tensorflow_core/python/client/session.py\u001b[0m in \u001b[0;36m__call__\u001b[0;34m(self, *args, **kwargs)\u001b[0m\n\u001b[1;32m   1470\u001b[0m         ret = tf_session.TF_SessionRunCallable(self._session._session,\n\u001b[1;32m   1471\u001b[0m                                                \u001b[0mself\u001b[0m\u001b[0;34m.\u001b[0m\u001b[0m_handle\u001b[0m\u001b[0;34m,\u001b[0m \u001b[0margs\u001b[0m\u001b[0;34m,\u001b[0m\u001b[0;34m\u001b[0m\u001b[0;34m\u001b[0m\u001b[0m\n\u001b[0;32m-> 1472\u001b[0;31m                                                run_metadata_ptr)\n\u001b[0m\u001b[1;32m   1473\u001b[0m         \u001b[0;32mif\u001b[0m \u001b[0mrun_metadata\u001b[0m\u001b[0;34m:\u001b[0m\u001b[0;34m\u001b[0m\u001b[0;34m\u001b[0m\u001b[0m\n\u001b[1;32m   1474\u001b[0m           \u001b[0mproto_data\u001b[0m \u001b[0;34m=\u001b[0m \u001b[0mtf_session\u001b[0m\u001b[0;34m.\u001b[0m\u001b[0mTF_GetBuffer\u001b[0m\u001b[0;34m(\u001b[0m\u001b[0mrun_metadata_ptr\u001b[0m\u001b[0;34m)\u001b[0m\u001b[0;34m\u001b[0m\u001b[0;34m\u001b[0m\u001b[0m\n",
            "\u001b[0;31mFailedPreconditionError\u001b[0m: 2 root error(s) found.\n  (0) Failed precondition: Error while reading resource variable conv2d_10/kernel from Container: localhost. This could mean that the variable was uninitialized. Not found: Container localhost does not exist. (Could not find resource: localhost/conv2d_10/kernel)\n\t [[{{node conv2d_10/Conv2D/ReadVariableOp}}]]\n\t [[strided_slice_1/_15]]\n  (1) Failed precondition: Error while reading resource variable conv2d_10/kernel from Container: localhost. This could mean that the variable was uninitialized. Not found: Container localhost does not exist. (Could not find resource: localhost/conv2d_10/kernel)\n\t [[{{node conv2d_10/Conv2D/ReadVariableOp}}]]\n0 successful operations.\n0 derived errors ignored."
          ]
        }
      ]
    },
    {
      "cell_type": "code",
      "metadata": {
        "id": "LMNUDzPlSff2",
        "colab_type": "code",
        "outputId": "fbc2767a-f8b6-45bb-d6b6-865e2fe86358",
        "colab": {
          "base_uri": "https://localhost:8080/",
          "height": 35
        }
      },
      "source": [
        "pooled_grads_value = np.reshape"
      ],
      "execution_count": 0,
      "outputs": [
        {
          "output_type": "execute_result",
          "data": {
            "text/plain": [
              "(20, 20, 512)"
            ]
          },
          "metadata": {
            "tags": []
          },
          "execution_count": 68
        }
      ]
    },
    {
      "cell_type": "code",
      "metadata": {
        "id": "f9QWHVkRS2Hn",
        "colab_type": "code",
        "outputId": "743022c6-f192-4d7b-9373-bccca50c8f58",
        "colab": {
          "base_uri": "https://localhost:8080/",
          "height": 35
        }
      },
      "source": [
        "np.shape(conv_layer_output_value)"
      ],
      "execution_count": 0,
      "outputs": [
        {
          "output_type": "execute_result",
          "data": {
            "text/plain": [
              "(20, 20, 512)"
            ]
          },
          "metadata": {
            "tags": []
          },
          "execution_count": 70
        }
      ]
    },
    {
      "cell_type": "code",
      "metadata": {
        "id": "-jLIdySESuIW",
        "colab_type": "code",
        "outputId": "e3a25470-3525-43d8-908e-4765ffe5c835",
        "colab": {
          "base_uri": "https://localhost:8080/",
          "height": 190
        }
      },
      "source": [
        "for i in range(512):\n",
        "    conv_layer_output_value[:,:,i] = pooled_grads_value[i]"
      ],
      "execution_count": 0,
      "outputs": [
        {
          "output_type": "error",
          "ename": "ValueError",
          "evalue": "ignored",
          "traceback": [
            "\u001b[0;31m---------------------------------------------------------------------------\u001b[0m",
            "\u001b[0;31mValueError\u001b[0m                                Traceback (most recent call last)",
            "\u001b[0;32m<ipython-input-71-fac480307bb9>\u001b[0m in \u001b[0;36m<module>\u001b[0;34m()\u001b[0m\n\u001b[1;32m      1\u001b[0m \u001b[0;32mfor\u001b[0m \u001b[0mi\u001b[0m \u001b[0;32min\u001b[0m \u001b[0mrange\u001b[0m\u001b[0;34m(\u001b[0m\u001b[0;36m512\u001b[0m\u001b[0;34m)\u001b[0m\u001b[0;34m:\u001b[0m\u001b[0;34m\u001b[0m\u001b[0;34m\u001b[0m\u001b[0m\n\u001b[0;32m----> 2\u001b[0;31m     \u001b[0mconv_layer_output_value\u001b[0m\u001b[0;34m[\u001b[0m\u001b[0;34m:\u001b[0m\u001b[0;34m,\u001b[0m\u001b[0;34m:\u001b[0m\u001b[0;34m,\u001b[0m\u001b[0mi\u001b[0m\u001b[0;34m]\u001b[0m \u001b[0;34m=\u001b[0m \u001b[0mpooled_grads_value\u001b[0m\u001b[0;34m[\u001b[0m\u001b[0mi\u001b[0m\u001b[0;34m]\u001b[0m\u001b[0;34m\u001b[0m\u001b[0;34m\u001b[0m\u001b[0m\n\u001b[0m",
            "\u001b[0;31mValueError\u001b[0m: could not broadcast input array from shape (20,512) into shape (20,20)"
          ]
        }
      ]
    },
    {
      "cell_type": "code",
      "metadata": {
        "id": "BXgo-d0KP6aj",
        "colab_type": "code",
        "colab": {}
      },
      "source": [
        "from tensorflow.keras import backend as K\n",
        "from tensorflow.keras.preprocessing import image"
      ],
      "execution_count": 0,
      "outputs": []
    },
    {
      "cell_type": "code",
      "metadata": {
        "id": "r8Ih_9SAVBh3",
        "colab_type": "code",
        "colab": {}
      },
      "source": [
        "from tensorflow.keras import models\n",
        "\n",
        "layer_outputs = [layer.output for layer in model.layers[:8]]"
      ],
      "execution_count": 0,
      "outputs": []
    },
    {
      "cell_type": "code",
      "metadata": {
        "id": "T2OA7otFVaH7",
        "colab_type": "code",
        "colab": {}
      },
      "source": [
        "activation_model = models.Model(inputs=model.input, outputs=layer_outputs)"
      ],
      "execution_count": 0,
      "outputs": []
    },
    {
      "cell_type": "code",
      "metadata": {
        "id": "ifZuRMlEV0s-",
        "colab_type": "code",
        "colab": {}
      },
      "source": [
        "img_tensor = img_tensor.reshape(512, 512, 3)"
      ],
      "execution_count": 0,
      "outputs": []
    },
    {
      "cell_type": "code",
      "metadata": {
        "id": "J9ttPC4sVv7U",
        "colab_type": "code",
        "colab": {}
      },
      "source": [
        "r, g, b = cv2.split(img_tensor)\n"
      ],
      "execution_count": 0,
      "outputs": []
    },
    {
      "cell_type": "code",
      "metadata": {
        "id": "diEFjO62WIm1",
        "colab_type": "code",
        "colab": {}
      },
      "source": [
        "new_img_tensor = r.reshape(1, 512, 512, 1)"
      ],
      "execution_count": 0,
      "outputs": []
    },
    {
      "cell_type": "code",
      "metadata": {
        "id": "JBN4jPknVgWF",
        "colab_type": "code",
        "colab": {}
      },
      "source": [
        "activations = activation_model.predict(new_img_tensor)"
      ],
      "execution_count": 0,
      "outputs": []
    },
    {
      "cell_type": "code",
      "metadata": {
        "id": "lEtXULnHVlYh",
        "colab_type": "code",
        "colab": {}
      },
      "source": [
        "first_layer_activation = activations[0]"
      ],
      "execution_count": 0,
      "outputs": []
    },
    {
      "cell_type": "code",
      "metadata": {
        "id": "xYTSqZSWWXPz",
        "colab_type": "code",
        "outputId": "15a1ce08-daf6-43fd-8d11-f2294606da76",
        "colab": {
          "base_uri": "https://localhost:8080/",
          "height": 35
        }
      },
      "source": [
        "np.shape(first_layer_activation)"
      ],
      "execution_count": 0,
      "outputs": [
        {
          "output_type": "execute_result",
          "data": {
            "text/plain": [
              "(1, 510, 510, 64)"
            ]
          },
          "metadata": {
            "tags": []
          },
          "execution_count": 41
        }
      ]
    },
    {
      "cell_type": "code",
      "metadata": {
        "id": "hqgv5TBlWaHu",
        "colab_type": "code",
        "outputId": "4f71df12-33ef-4dd3-eefe-27435c0cecb2",
        "colab": {
          "base_uri": "https://localhost:8080/",
          "height": 279
        }
      },
      "source": [
        "plt.matshow(first_layer_activation[0,:,:,43], cmap='viridis')\n",
        "plt.xticks([])\n",
        "plt.yticks([])"
      ],
      "execution_count": 0,
      "outputs": [
        {
          "output_type": "execute_result",
          "data": {
            "text/plain": [
              "([], <a list of 0 Text yticklabel objects>)"
            ]
          },
          "metadata": {
            "tags": []
          },
          "execution_count": 51
        },
        {
          "output_type": "display_data",
          "data": {
            "image/png": "[encoded data removed]",
            "text/plain": [
              "<Figure size 288x288 with 1 Axes>"
            ]
          },
          "metadata": {
            "tags": []
          }
        }
      ]
    },
    {
      "cell_type": "code",
      "metadata": {
        "id": "N7CErFbtWpNq",
        "colab_type": "code",
        "colab": {}
      },
      "source": [
        "second_layer_activation = activations[1]"
      ],
      "execution_count": 0,
      "outputs": []
    },
    {
      "cell_type": "code",
      "metadata": {
        "id": "WpPg6O2Tnl4l",
        "colab_type": "code",
        "outputId": "323117e4-2e86-43d1-db29-a9090ea25eef",
        "colab": {
          "base_uri": "https://localhost:8080/",
          "height": 35
        }
      },
      "source": [
        "np.shape(second_layer_activation)"
      ],
      "execution_count": 0,
      "outputs": [
        {
          "output_type": "execute_result",
          "data": {
            "text/plain": [
              "(1, 508, 508, 64)"
            ]
          },
          "metadata": {
            "tags": []
          },
          "execution_count": 44
        }
      ]
    },
    {
      "cell_type": "code",
      "metadata": {
        "id": "g3Ft_oWWnWRF",
        "colab_type": "code",
        "outputId": "cdc805ae-9668-40c4-91ee-c0ad34e2fe05",
        "colab": {
          "base_uri": "https://localhost:8080/",
          "height": 279
        }
      },
      "source": [
        "plt.matshow(second_layer_activation[0,:,:,14], cmap='viridis')\n",
        "plt.xticks([])\n",
        "plt.yticks([])"
      ],
      "execution_count": 0,
      "outputs": [
        {
          "output_type": "execute_result",
          "data": {
            "text/plain": [
              "([], <a list of 0 Text yticklabel objects>)"
            ]
          },
          "metadata": {
            "tags": []
          },
          "execution_count": 50
        },
        {
          "output_type": "display_data",
          "data": {
            "image/png": "[encoded data removed]",
            "text/plain": [
              "<Figure size 288x288 with 1 Axes>"
            ]
          },
          "metadata": {
            "tags": []
          }
        }
      ]
    },
    {
      "cell_type": "code",
      "metadata": {
        "id": "UC5b8mLknqpH",
        "colab_type": "code",
        "outputId": "6dce19f3-58ef-40e3-d33d-8642b92f60a9",
        "colab": {
          "base_uri": "https://localhost:8080/",
          "height": 35
        }
      },
      "source": [
        "len(activations)"
      ],
      "execution_count": 0,
      "outputs": [
        {
          "output_type": "execute_result",
          "data": {
            "text/plain": [
              "8"
            ]
          },
          "metadata": {
            "tags": []
          },
          "execution_count": 71
        }
      ]
    },
    {
      "cell_type": "code",
      "metadata": {
        "id": "BjZlNIaBoOcQ",
        "colab_type": "code",
        "colab": {}
      },
      "source": [
        "eighth_layer_activation  = activations[7]"
      ],
      "execution_count": 0,
      "outputs": []
    },
    {
      "cell_type": "code",
      "metadata": {
        "id": "ql3Q-zoPoc4E",
        "colab_type": "code",
        "outputId": "cc0c7c96-018d-4b83-e713-a6649ec550a9",
        "colab": {
          "base_uri": "https://localhost:8080/",
          "height": 35
        }
      },
      "source": [
        "np.shape(eighth_layer_activation)"
      ],
      "execution_count": 0,
      "outputs": [
        {
          "output_type": "execute_result",
          "data": {
            "text/plain": [
              "(1, 121, 121, 256)"
            ]
          },
          "metadata": {
            "tags": []
          },
          "execution_count": 47
        }
      ]
    },
    {
      "cell_type": "code",
      "metadata": {
        "id": "tNGVgCgKogZO",
        "colab_type": "code",
        "outputId": "9d834b74-e528-4495-96a0-b6ccacad6beb",
        "colab": {
          "base_uri": "https://localhost:8080/",
          "height": 279
        }
      },
      "source": [
        "plt.matshow(eighth_layer_activation[0,:,:,100], cmap='viridis')\n",
        "plt.xticks([])\n",
        "plt.yticks([])"
      ],
      "execution_count": 0,
      "outputs": [
        {
          "output_type": "execute_result",
          "data": {
            "text/plain": [
              "([], <a list of 0 Text yticklabel objects>)"
            ]
          },
          "metadata": {
            "tags": []
          },
          "execution_count": 49
        },
        {
          "output_type": "display_data",
          "data": {
            "image/png": "[encoded data removed]",
            "text/plain": [
              "<Figure size 288x288 with 1 Axes>"
            ]
          },
          "metadata": {
            "tags": []
          }
        }
      ]
    },
    {
      "cell_type": "code",
      "metadata": {
        "id": "NFxEJhrUojZt",
        "colab_type": "code",
        "colab": {}
      },
      "source": [
        ""
      ],
      "execution_count": 0,
      "outputs": []
    }
  ]
}