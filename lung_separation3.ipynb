{
  "nbformat": 4,
  "nbformat_minor": 0,
  "metadata": {
    "colab": {
      "name": "lung_separation3.ipynb",
      "provenance": [],
      "collapsed_sections": [],
      "authorship_tag": "ABX9TyNJzfCT1Dc4rsyO7Z16GZ7S",
      "include_colab_link": true
    },
    "kernelspec": {
      "name": "python3",
      "display_name": "Python 3"
    },
    "accelerator": "GPU"
  },
  "cells": [
    {
      "cell_type": "markdown",
      "metadata": {
        "id": "view-in-github",
        "colab_type": "text"
      },
      "source": [
        "<a href=\"https://colab.research.google.com/github/sunmarknatecom/colaboratory/blob/master/lung_separation3.ipynb\" target=\"_parent\"><img src=\"https://colab.research.google.com/assets/colab-badge.svg\" alt=\"Open In Colab\"/></a>"
      ]
    },
    {
      "cell_type": "code",
      "metadata": {
        "id": "tr_luN0PXrxu",
        "colab_type": "code",
        "outputId": "428af586-ecc7-4ac3-defd-6f793f36232c",
        "colab": {
          "base_uri": "https://localhost:8080/",
          "height": 127
        }
      },
      "source": [
        "from google.colab import drive\n",
        "drive.mount('/content/drive')"
      ],
      "execution_count": 1,
      "outputs": [
        {
          "output_type": "stream",
          "text": [
            "Go to this URL in a browser: https://accounts.google.com/o/oauth2/auth?client_id=947318989803-6bn6qk8qdgf4n4g3pfee6491hc0brc4i.apps.googleusercontent.com&redirect_uri=urn%3aietf%3awg%3aoauth%3a2.0%3aoob&response_type=code&scope=email%20https%3a%2f%2fwww.googleapis.com%2fauth%2fdocs.test%20https%3a%2f%2fwww.googleapis.com%2fauth%2fdrive%20https%3a%2f%2fwww.googleapis.com%2fauth%2fdrive.photos.readonly%20https%3a%2f%2fwww.googleapis.com%2fauth%2fpeopleapi.readonly\n",
            "\n",
            "Enter your authorization code:\n",
            "··········\n",
            "Mounted at /content/drive\n"
          ],
          "name": "stdout"
        }
      ]
    },
    {
      "cell_type": "code",
      "metadata": {
        "id": "A9Be6R1lXo4_",
        "colab_type": "code",
        "outputId": "ca1ad7d2-c527-4e5c-ba29-453fff91b719",
        "colab": {
          "base_uri": "https://localhost:8080/",
          "height": 127
        }
      },
      "source": [
        "!pip install pydicom\n"
      ],
      "execution_count": 2,
      "outputs": [
        {
          "output_type": "stream",
          "text": [
            "Collecting pydicom\n",
            "\u001b[?25l  Downloading https://files.pythonhosted.org/packages/c0/ea/b05a0051a579acc8026e46a889354774a0da9d31f42aaa1af35a1f0e4a43/pydicom-1.4.1-py2.py3-none-any.whl (35.1MB)\n",
            "\u001b[K     |████████████████████████████████| 35.1MB 88kB/s \n",
            "\u001b[?25hInstalling collected packages: pydicom\n",
            "Successfully installed pydicom-1.4.1\n"
          ],
          "name": "stdout"
        }
      ]
    },
    {
      "cell_type": "code",
      "metadata": {
        "id": "QXmjtq0Gasv9",
        "colab_type": "code",
        "outputId": "55fa3440-4447-4511-c3cf-f7a15dce616f",
        "colab": {
          "base_uri": "https://localhost:8080/",
          "height": 81
        }
      },
      "source": [
        "import pandas as pd\n",
        "import numpy as np\n",
        "import pydicom\n",
        "import matplotlib.pyplot as plt\n",
        "\n",
        "from tensorflow.keras.models import Sequential\n",
        "from tensorflow.keras.layers import Conv2D, MaxPooling2D, Dense, Flatten, Dropout"
      ],
      "execution_count": 3,
      "outputs": [
        {
          "output_type": "display_data",
          "data": {
            "text/html": [
              "<p style=\"color: red;\">\n",
              "The default version of TensorFlow in Colab will soon switch to TensorFlow 2.x.<br>\n",
              "We recommend you <a href=\"https://www.tensorflow.org/guide/migrate\" target=\"_blank\">upgrade</a> now \n",
              "or ensure your notebook will continue to use TensorFlow 1.x via the <code>%tensorflow_version 1.x</code> magic:\n",
              "<a href=\"https://colab.research.google.com/notebooks/tensorflow_version.ipynb\" target=\"_blank\">more info</a>.</p>\n"
            ],
            "text/plain": [
              "<IPython.core.display.HTML object>"
            ]
          },
          "metadata": {
            "tags": []
          }
        }
      ]
    },
    {
      "cell_type": "code",
      "metadata": {
        "id": "fgMkT2VafK-X",
        "colab_type": "code",
        "colab": {}
      },
      "source": [
        "def create_dataset(a, b, c, d):\n",
        "    df_list = []\n",
        "    for i in range(c): # c\n",
        "        path = \"./drive/My Drive/dataset/\" + d\n",
        "        fn = \"/IM-0001-0%03d.dcm\" %(i+1)\n",
        "        filename = path + fn\n",
        "        ds = pydicom.dcmread(filename)\n",
        "        df = ds.pixel_array\n",
        "        df_list.append(df)\n",
        "    df_list = np.array(df_list)\n",
        "    x_train = df_list.reshape(df_list.shape[0], 512, 512, 1).astype('float32')\n",
        "\n",
        "    y_train = np.zeros((c), dtype=int) # c\n",
        "    for i in range(a-1, b): # a+1, b\n",
        "        y_train[i] = 1\n",
        "\n",
        "    return x_train, y_train"
      ],
      "execution_count": 0,
      "outputs": []
    },
    {
      "cell_type": "code",
      "metadata": {
        "id": "EEqKVHi9fSl1",
        "colab_type": "code",
        "colab": {}
      },
      "source": [
        "x_train_1, y_train_1 = create_dataset(71,128,275,\"pt01\")\n",
        "x_train_2, y_train_2 = create_dataset(69,130,263,\"pt02\")\n",
        "x_train_3, y_train_3 = create_dataset(1,213,262,\"pt04\")\n",
        "x_test, y_test = create_dataset(71,144,285,\"pt03\")"
      ],
      "execution_count": 0,
      "outputs": []
    },
    {
      "cell_type": "code",
      "metadata": {
        "id": "dngaVbLjuFqk",
        "colab_type": "code",
        "colab": {
          "base_uri": "https://localhost:8080/",
          "height": 233
        },
        "outputId": "a3afefce-5438-489f-b162-ccf1e9236c3e"
      },
      "source": [
        "y_train_3"
      ],
      "execution_count": 8,
      "outputs": [
        {
          "output_type": "execute_result",
          "data": {
            "text/plain": [
              "array([1, 1, 1, 1, 1, 1, 1, 1, 1, 1, 1, 1, 1, 1, 1, 1, 1, 1, 1, 1, 1, 1,\n",
              "       1, 1, 1, 1, 1, 1, 1, 1, 1, 1, 1, 1, 1, 1, 1, 1, 1, 1, 1, 1, 1, 1,\n",
              "       1, 1, 1, 1, 1, 1, 1, 1, 1, 1, 1, 1, 1, 1, 1, 1, 1, 1, 1, 1, 1, 1,\n",
              "       1, 1, 1, 1, 1, 1, 1, 1, 1, 1, 1, 1, 1, 1, 1, 1, 1, 1, 1, 1, 1, 1,\n",
              "       1, 1, 1, 1, 1, 1, 1, 1, 1, 1, 1, 1, 1, 1, 1, 1, 1, 1, 1, 1, 1, 1,\n",
              "       1, 1, 1, 1, 1, 1, 1, 1, 1, 1, 1, 1, 1, 1, 1, 1, 1, 1, 1, 1, 1, 1,\n",
              "       1, 1, 1, 1, 1, 1, 1, 1, 1, 1, 1, 1, 1, 1, 1, 1, 1, 1, 1, 1, 1, 1,\n",
              "       1, 1, 1, 1, 1, 1, 1, 1, 1, 1, 1, 1, 1, 1, 1, 1, 1, 1, 1, 1, 1, 1,\n",
              "       1, 1, 1, 1, 1, 1, 1, 1, 1, 1, 1, 1, 1, 1, 1, 1, 1, 1, 1, 1, 1, 1,\n",
              "       1, 1, 1, 1, 1, 1, 1, 1, 1, 1, 1, 1, 1, 1, 1, 0, 0, 0, 0, 0, 0, 0,\n",
              "       0, 0, 0, 0, 0, 0, 0, 0, 0, 0, 0, 0, 0, 0, 0, 0, 0, 0, 0, 0, 0, 0,\n",
              "       0, 0, 0, 0, 0, 0, 0, 0, 0, 0, 0, 0, 0, 0, 0, 0, 0, 0, 0, 0])"
            ]
          },
          "metadata": {
            "tags": []
          },
          "execution_count": 8
        }
      ]
    },
    {
      "cell_type": "code",
      "metadata": {
        "id": "7OZChLv4uJ5a",
        "colab_type": "code",
        "colab": {
          "base_uri": "https://localhost:8080/",
          "height": 35
        },
        "outputId": "d73f98f8-3d12-4b86-cdf4-eaae22f7ddf5"
      },
      "source": [
        "np.shape(y_train_3)"
      ],
      "execution_count": 9,
      "outputs": [
        {
          "output_type": "execute_result",
          "data": {
            "text/plain": [
              "(262,)"
            ]
          },
          "metadata": {
            "tags": []
          },
          "execution_count": 9
        }
      ]
    },
    {
      "cell_type": "code",
      "metadata": {
        "id": "pGp8iLx3uMlJ",
        "colab_type": "code",
        "colab": {}
      },
      "source": [
        "for i in range(213):\n",
        "    y_train_3[i] = 0\n",
        "for i in range(49):\n",
        "    y_train_3[i+213] = 1"
      ],
      "execution_count": 0,
      "outputs": []
    },
    {
      "cell_type": "code",
      "metadata": {
        "id": "h88Sl_w0vrsu",
        "colab_type": "code",
        "colab": {
          "base_uri": "https://localhost:8080/",
          "height": 233
        },
        "outputId": "77653eeb-5ad9-4d4d-d836-0a6343d32f73"
      },
      "source": [
        "y_train_3"
      ],
      "execution_count": 12,
      "outputs": [
        {
          "output_type": "execute_result",
          "data": {
            "text/plain": [
              "array([0, 0, 0, 0, 0, 0, 0, 0, 0, 0, 0, 0, 0, 0, 0, 0, 0, 0, 0, 0, 0, 0,\n",
              "       0, 0, 0, 0, 0, 0, 0, 0, 0, 0, 0, 0, 0, 0, 0, 0, 0, 0, 0, 0, 0, 0,\n",
              "       0, 0, 0, 0, 0, 0, 0, 0, 0, 0, 0, 0, 0, 0, 0, 0, 0, 0, 0, 0, 0, 0,\n",
              "       0, 0, 0, 0, 0, 0, 0, 0, 0, 0, 0, 0, 0, 0, 0, 0, 0, 0, 0, 0, 0, 0,\n",
              "       0, 0, 0, 0, 0, 0, 0, 0, 0, 0, 0, 0, 0, 0, 0, 0, 0, 0, 0, 0, 0, 0,\n",
              "       0, 0, 0, 0, 0, 0, 0, 0, 0, 0, 0, 0, 0, 0, 0, 0, 0, 0, 0, 0, 0, 0,\n",
              "       0, 0, 0, 0, 0, 0, 0, 0, 0, 0, 0, 0, 0, 0, 0, 0, 0, 0, 0, 0, 0, 0,\n",
              "       0, 0, 0, 0, 0, 0, 0, 0, 0, 0, 0, 0, 0, 0, 0, 0, 0, 0, 0, 0, 0, 0,\n",
              "       0, 0, 0, 0, 0, 0, 0, 0, 0, 0, 0, 0, 0, 0, 0, 0, 0, 0, 0, 0, 0, 0,\n",
              "       0, 0, 0, 0, 0, 0, 0, 0, 0, 0, 0, 0, 0, 0, 0, 1, 1, 1, 1, 1, 1, 1,\n",
              "       1, 1, 1, 1, 1, 1, 1, 1, 1, 1, 1, 1, 1, 1, 1, 1, 1, 1, 1, 1, 1, 1,\n",
              "       1, 1, 1, 1, 1, 1, 1, 1, 1, 1, 1, 1, 1, 1, 1, 1, 1, 1, 1, 1])"
            ]
          },
          "metadata": {
            "tags": []
          },
          "execution_count": 12
        }
      ]
    },
    {
      "cell_type": "code",
      "metadata": {
        "id": "Zj0dUk2PgQ9t",
        "colab_type": "code",
        "colab": {}
      },
      "source": [
        "# data preparation\n",
        "# import pydicom\n",
        "# import matplotlib.pyplot as plt\n",
        "# ds_list = []\n",
        "# for i in range(782):\n",
        "#     fn = pydicom.dcmread(\"000%03d.dcm\" %i)\n",
        "#     ds = fn.pixel_array\n",
        "#     plt.imshow(ds, interpolation='bicubic', cmap='Greys')\n",
        "#     plt.title(\"%03d\" %i)\n",
        "#     plt.xticks([])\n",
        "#     plt.yticks([])\n",
        "#     plt.show()\n",
        "\n",
        "# 01 71-128 275 (lung not_lung)\n",
        "# 02 69-130 263 (lung not_lung)\n",
        "# 03 71-144 285 (lung not_lung)\n",
        "# 04 1-213(not lung) 263 (lung)"
      ],
      "execution_count": 0,
      "outputs": []
    },
    {
      "cell_type": "code",
      "metadata": {
        "id": "UYVxXujvhnPO",
        "colab_type": "code",
        "colab": {}
      },
      "source": [
        "x_train = np.concatenate((x_train_1, x_train_2), axis=0)\n",
        "x_train = np.concatenate((x_train_3, x_train), axis=0)\n",
        "y_train = np.concatenate((y_train_1, y_train_2), axis=0)\n",
        "y_train = np.concatenate((y_train_3, y_train), axis=0)"
      ],
      "execution_count": 0,
      "outputs": []
    },
    {
      "cell_type": "code",
      "metadata": {
        "id": "YX8haeBGh2V0",
        "colab_type": "code",
        "outputId": "099754fc-da0a-4515-8b9d-ba97dc7c4281",
        "colab": {
          "base_uri": "https://localhost:8080/",
          "height": 953
        }
      },
      "source": [
        "model = Sequential()\n",
        "model.add(Conv2D(64, (3, 3), activation='relu', input_shape=(512, 512, 1)))\n",
        "model.add(Conv2D(64, (3, 3), activation='relu'))\n",
        "model.add(MaxPooling2D((2, 2)))\n",
        "model.add(Conv2D(128, (3, 3), activation='relu'))\n",
        "model.add(Conv2D(128, (3, 3), activation='relu'))\n",
        "model.add(MaxPooling2D((2, 2)))\n",
        "model.add(Conv2D(256, (3, 3), activation='relu'))\n",
        "model.add(Conv2D(256, (3, 3), activation='relu'))\n",
        "model.add(Conv2D(256, (3, 3), activation='relu'))\n",
        "model.add(MaxPooling2D((2, 2)))\n",
        "model.add(Conv2D(512, (3, 3), activation='relu'))\n",
        "model.add(Conv2D(512, (3, 3), activation='relu'))\n",
        "model.add(Conv2D(512, (3, 3), activation='relu'))\n",
        "model.add(MaxPooling2D((2, 2)))\n",
        "model.add(Conv2D(512, (3, 3), activation='relu'))\n",
        "model.add(Conv2D(512, (3, 3), activation='relu'))\n",
        "model.add(Conv2D(512, (3, 3), activation='relu'))\n",
        "model.add(MaxPooling2D((2, 2)))\n",
        "model.add(Flatten())\n",
        "model.add(Dense(1024, activation='relu'))\n",
        "model.add(Dropout(0.5))\n",
        "model.add(Dense(1, activation='sigmoid'))\n",
        "model.summary()"
      ],
      "execution_count": 17,
      "outputs": [
        {
          "output_type": "stream",
          "text": [
            "Model: \"sequential_1\"\n",
            "_________________________________________________________________\n",
            "Layer (type)                 Output Shape              Param #   \n",
            "=================================================================\n",
            "conv2d_13 (Conv2D)           (None, 510, 510, 64)      640       \n",
            "_________________________________________________________________\n",
            "conv2d_14 (Conv2D)           (None, 508, 508, 64)      36928     \n",
            "_________________________________________________________________\n",
            "max_pooling2d_5 (MaxPooling2 (None, 254, 254, 64)      0         \n",
            "_________________________________________________________________\n",
            "conv2d_15 (Conv2D)           (None, 252, 252, 128)     73856     \n",
            "_________________________________________________________________\n",
            "conv2d_16 (Conv2D)           (None, 250, 250, 128)     147584    \n",
            "_________________________________________________________________\n",
            "max_pooling2d_6 (MaxPooling2 (None, 125, 125, 128)     0         \n",
            "_________________________________________________________________\n",
            "conv2d_17 (Conv2D)           (None, 123, 123, 256)     295168    \n",
            "_________________________________________________________________\n",
            "conv2d_18 (Conv2D)           (None, 121, 121, 256)     590080    \n",
            "_________________________________________________________________\n",
            "conv2d_19 (Conv2D)           (None, 119, 119, 256)     590080    \n",
            "_________________________________________________________________\n",
            "max_pooling2d_7 (MaxPooling2 (None, 59, 59, 256)       0         \n",
            "_________________________________________________________________\n",
            "conv2d_20 (Conv2D)           (None, 57, 57, 512)       1180160   \n",
            "_________________________________________________________________\n",
            "conv2d_21 (Conv2D)           (None, 55, 55, 512)       2359808   \n",
            "_________________________________________________________________\n",
            "conv2d_22 (Conv2D)           (None, 53, 53, 512)       2359808   \n",
            "_________________________________________________________________\n",
            "max_pooling2d_8 (MaxPooling2 (None, 26, 26, 512)       0         \n",
            "_________________________________________________________________\n",
            "conv2d_23 (Conv2D)           (None, 24, 24, 512)       2359808   \n",
            "_________________________________________________________________\n",
            "conv2d_24 (Conv2D)           (None, 22, 22, 512)       2359808   \n",
            "_________________________________________________________________\n",
            "conv2d_25 (Conv2D)           (None, 20, 20, 512)       2359808   \n",
            "_________________________________________________________________\n",
            "max_pooling2d_9 (MaxPooling2 (None, 10, 10, 512)       0         \n",
            "_________________________________________________________________\n",
            "flatten_1 (Flatten)          (None, 51200)             0         \n",
            "_________________________________________________________________\n",
            "dense_2 (Dense)              (None, 1024)              52429824  \n",
            "_________________________________________________________________\n",
            "dropout_1 (Dropout)          (None, 1024)              0         \n",
            "_________________________________________________________________\n",
            "dense_3 (Dense)              (None, 1)                 1025      \n",
            "=================================================================\n",
            "Total params: 67,144,385\n",
            "Trainable params: 67,144,385\n",
            "Non-trainable params: 0\n",
            "_________________________________________________________________\n"
          ],
          "name": "stdout"
        }
      ]
    },
    {
      "cell_type": "code",
      "metadata": {
        "id": "ULu0jTW7h6V9",
        "colab_type": "code",
        "colab": {}
      },
      "source": [
        "model.compile(loss='binary_crossentropy', optimizer='adam', metrics=['accuracy'])"
      ],
      "execution_count": 0,
      "outputs": []
    },
    {
      "cell_type": "code",
      "metadata": {
        "id": "VDRSPP2Ph9h1",
        "colab_type": "code",
        "outputId": "a727a9fb-17af-46f9-8600-0e49ef6c5b8a",
        "colab": {
          "base_uri": "https://localhost:8080/",
          "height": 775
        }
      },
      "source": [
        "history = model.fit(x_train, y_train, validation_data=(x_test, y_test), epochs=20, batch_size=25)"
      ],
      "execution_count": 20,
      "outputs": [
        {
          "output_type": "stream",
          "text": [
            "Train on 800 samples, validate on 285 samples\n",
            "Epoch 1/20\n",
            "800/800 [==============================] - 68s 84ms/sample - loss: 68.7841 - acc: 0.7437 - val_loss: 0.5342 - val_acc: 0.7404\n",
            "Epoch 2/20\n",
            "800/800 [==============================] - 63s 78ms/sample - loss: 0.5600 - acc: 0.7600 - val_loss: 0.5011 - val_acc: 0.7404\n",
            "Epoch 3/20\n",
            "800/800 [==============================] - 63s 78ms/sample - loss: 0.3902 - acc: 0.8025 - val_loss: 0.1556 - val_acc: 0.9333\n",
            "Epoch 4/20\n",
            "800/800 [==============================] - 63s 78ms/sample - loss: 0.2624 - acc: 0.8875 - val_loss: 0.1411 - val_acc: 0.9263\n",
            "Epoch 5/20\n",
            "800/800 [==============================] - 62s 78ms/sample - loss: 0.1750 - acc: 0.9362 - val_loss: 0.1590 - val_acc: 0.9404\n",
            "Epoch 6/20\n",
            "800/800 [==============================] - 62s 78ms/sample - loss: 0.1223 - acc: 0.9613 - val_loss: 0.0624 - val_acc: 0.9684\n",
            "Epoch 7/20\n",
            "800/800 [==============================] - 62s 78ms/sample - loss: 0.1287 - acc: 0.9613 - val_loss: 0.2639 - val_acc: 0.8982\n",
            "Epoch 8/20\n",
            "800/800 [==============================] - 62s 78ms/sample - loss: 0.1068 - acc: 0.9700 - val_loss: 0.0785 - val_acc: 0.9684\n",
            "Epoch 9/20\n",
            "800/800 [==============================] - 62s 78ms/sample - loss: 0.1639 - acc: 0.9362 - val_loss: 0.1157 - val_acc: 0.9474\n",
            "Epoch 10/20\n",
            "800/800 [==============================] - 62s 78ms/sample - loss: 0.0734 - acc: 0.9787 - val_loss: 0.1573 - val_acc: 0.9368\n",
            "Epoch 11/20\n",
            "800/800 [==============================] - 62s 78ms/sample - loss: 0.0739 - acc: 0.9775 - val_loss: 0.2476 - val_acc: 0.9018\n",
            "Epoch 12/20\n",
            "800/800 [==============================] - 62s 78ms/sample - loss: 0.0847 - acc: 0.9800 - val_loss: 0.1403 - val_acc: 0.9404\n",
            "Epoch 13/20\n",
            "800/800 [==============================] - 62s 78ms/sample - loss: 0.2132 - acc: 0.9375 - val_loss: 0.1317 - val_acc: 0.9544\n",
            "Epoch 14/20\n",
            "800/800 [==============================] - 62s 78ms/sample - loss: 0.1944 - acc: 0.9413 - val_loss: 0.4494 - val_acc: 0.9018\n",
            "Epoch 15/20\n",
            "800/800 [==============================] - 62s 78ms/sample - loss: 0.0844 - acc: 0.9775 - val_loss: 0.9740 - val_acc: 0.9263\n",
            "Epoch 16/20\n",
            "800/800 [==============================] - 62s 78ms/sample - loss: 0.1455 - acc: 0.9575 - val_loss: 0.2362 - val_acc: 0.9053\n",
            "Epoch 17/20\n",
            "800/800 [==============================] - 62s 78ms/sample - loss: 0.0708 - acc: 0.9712 - val_loss: 0.2000 - val_acc: 0.9053\n",
            "Epoch 18/20\n",
            "800/800 [==============================] - 62s 78ms/sample - loss: 0.0709 - acc: 0.9825 - val_loss: 0.0971 - val_acc: 0.9544\n",
            "Epoch 19/20\n",
            "800/800 [==============================] - 62s 78ms/sample - loss: 0.0733 - acc: 0.9787 - val_loss: 0.5410 - val_acc: 0.8947\n",
            "Epoch 20/20\n",
            "800/800 [==============================] - 62s 78ms/sample - loss: 0.0705 - acc: 0.9737 - val_loss: 0.0629 - val_acc: 0.9860\n"
          ],
          "name": "stdout"
        }
      ]
    },
    {
      "cell_type": "code",
      "metadata": {
        "id": "PRFIFQ7wiLFM",
        "colab_type": "code",
        "outputId": "2ebadde0-9544-480f-a2f7-16816628247c",
        "colab": {
          "base_uri": "https://localhost:8080/",
          "height": 53
        }
      },
      "source": [
        "model.evaluate(x_test, y_test)"
      ],
      "execution_count": 21,
      "outputs": [
        {
          "output_type": "stream",
          "text": [
            "285/285 [==============================] - 25s 89ms/sample - loss: 0.0629 - acc: 0.9860\n"
          ],
          "name": "stdout"
        },
        {
          "output_type": "execute_result",
          "data": {
            "text/plain": [
              "[0.06291453907952571, 0.9859649]"
            ]
          },
          "metadata": {
            "tags": []
          },
          "execution_count": 21
        }
      ]
    },
    {
      "cell_type": "code",
      "metadata": {
        "id": "aKene_DSq5gn",
        "colab_type": "code",
        "outputId": "2a574466-e48e-41d9-f6bf-7218b548496d",
        "colab": {
          "base_uri": "https://localhost:8080/",
          "height": 35
        }
      },
      "source": [
        "model.predict(x_train[250].reshape(1, 512, 512, 1))"
      ],
      "execution_count": 25,
      "outputs": [
        {
          "output_type": "execute_result",
          "data": {
            "text/plain": [
              "array([[0.9999386]], dtype=float32)"
            ]
          },
          "metadata": {
            "tags": []
          },
          "execution_count": 25
        }
      ]
    },
    {
      "cell_type": "code",
      "metadata": {
        "id": "Pb6RuawalELA",
        "colab_type": "code",
        "outputId": "5393a9a0-4c9f-464d-90a4-05ed66da917f",
        "colab": {
          "base_uri": "https://localhost:8080/",
          "height": 545
        }
      },
      "source": [
        "acc = history.history['acc']\n",
        "val_acc = history.history['val_acc']\n",
        "loss = history.history['loss']\n",
        "val_loss = history.history['val_loss']\n",
        "\n",
        "epochs_n = range(2,len(acc)+1)\n",
        "\n",
        "plt.plot(epochs_n, acc[1:], 'bo', label='training_accuracy')\n",
        "plt.plot(epochs_n, val_acc[1:], 'b', label='val_accuracy')\n",
        "plt.title('Training and validation accuracy')\n",
        "plt.figure()\n",
        "\n",
        "plt.plot(epochs_n, loss[1:], 'bo', label='training_loss')\n",
        "plt.plot(epochs_n, val_loss[1:], 'b', label='val_loss')\n",
        "plt.title('Training and validation loss')\n",
        "plt.show()"
      ],
      "execution_count": 26,
      "outputs": [
        {
          "output_type": "display_data",
          "data": {
            "image/png": "[encoded data removed]",
            "text/plain": [
              "<Figure size 432x288 with 1 Axes>"
            ]
          },
          "metadata": {
            "tags": []
          }
        },
        {
          "output_type": "display_data",
          "data": {
            "image/png": "[encoded data removed]",
            "text/plain": [
              "<Figure size 432x288 with 1 Axes>"
            ]
          },
          "metadata": {
            "tags": []
          }
        }
      ]
    },
    {
      "cell_type": "code",
      "metadata": {
        "id": "g6vsLpNMDriJ",
        "colab_type": "code",
        "colab": {}
      },
      "source": [
        "model.save('./drive/My Drive/lung_separation_2.h5')"
      ],
      "execution_count": 0,
      "outputs": []
    },
    {
      "cell_type": "code",
      "metadata": {
        "id": "jI4ac_vmEtxu",
        "colab_type": "code",
        "outputId": "802a5623-bcab-4ff4-98e4-89b610fda277",
        "colab": {
          "base_uri": "https://localhost:8080/",
          "height": 35
        }
      },
      "source": [
        "import os\n",
        "os.getcwd()"
      ],
      "execution_count": 28,
      "outputs": [
        {
          "output_type": "execute_result",
          "data": {
            "text/plain": [
              "'/content'"
            ]
          },
          "metadata": {
            "tags": []
          },
          "execution_count": 28
        }
      ]
    },
    {
      "cell_type": "code",
      "metadata": {
        "id": "htsVbDR_Ewd_",
        "colab_type": "code",
        "colab": {}
      },
      "source": [
        "from tensorflow.keras.models import load_model\n",
        "import tensorflow as tf"
      ],
      "execution_count": 0,
      "outputs": []
    },
    {
      "cell_type": "code",
      "metadata": {
        "id": "g0Iehb67FKwq",
        "colab_type": "code",
        "outputId": "ce91c5d2-9677-4855-f3e4-28b66ff9dcbf",
        "colab": {
          "base_uri": "https://localhost:8080/",
          "height": 145
        }
      },
      "source": [
        "model = load_model('./drive/My Drive/lung_separation_2.h5')"
      ],
      "execution_count": 32,
      "outputs": [
        {
          "output_type": "stream",
          "text": [
            "WARNING:tensorflow:From /usr/local/lib/python3.6/dist-packages/tensorflow_core/python/ops/init_ops.py:97: calling GlorotUniform.__init__ (from tensorflow.python.ops.init_ops) with dtype is deprecated and will be removed in a future version.\n",
            "Instructions for updating:\n",
            "Call initializer instance with the dtype argument instead of passing it to the constructor\n",
            "WARNING:tensorflow:From /usr/local/lib/python3.6/dist-packages/tensorflow_core/python/ops/init_ops.py:97: calling Zeros.__init__ (from tensorflow.python.ops.init_ops) with dtype is deprecated and will be removed in a future version.\n",
            "Instructions for updating:\n",
            "Call initializer instance with the dtype argument instead of passing it to the constructor\n"
          ],
          "name": "stdout"
        }
      ]
    },
    {
      "cell_type": "code",
      "metadata": {
        "id": "YJs7I0iEFODN",
        "colab_type": "code",
        "outputId": "933596c9-4463-4ac8-fd03-d0a421474fca",
        "colab": {
          "base_uri": "https://localhost:8080/",
          "height": 35
        }
      },
      "source": [
        "model.predict(x_train[252].reshape(1, 512, 512, 1))"
      ],
      "execution_count": 35,
      "outputs": [
        {
          "output_type": "execute_result",
          "data": {
            "text/plain": [
              "array([[0.99983096]], dtype=float32)"
            ]
          },
          "metadata": {
            "tags": []
          },
          "execution_count": 35
        }
      ]
    },
    {
      "cell_type": "code",
      "metadata": {
        "id": "j4HEVUZkFoLM",
        "colab_type": "code",
        "outputId": "8e441b59-b4f5-48a9-dd12-6949e32dd1f7",
        "colab": {
          "base_uri": "https://localhost:8080/",
          "height": 269
        }
      },
      "source": [
        "plt.imshow(x_train[252].reshape(512,512), interpolation='bicubic', cmap='Greys')\n",
        "plt.show()"
      ],
      "execution_count": 36,
      "outputs": [
        {
          "output_type": "display_data",
          "data": {
            "image/png": "[encoded data removed]",
            "text/plain": [
              "<Figure size 432x288 with 1 Axes>"
            ]
          },
          "metadata": {
            "tags": []
          }
        }
      ]
    },
    {
      "cell_type": "code",
      "metadata": {
        "id": "r2z6cCYKFtl0",
        "colab_type": "code",
        "colab": {}
      },
      "source": [
        "from tensorflow.keras.preprocessing import image\n",
        "img = x_train[252]\n",
        "img = img.reshape(1, 512, 512, 1)"
      ],
      "execution_count": 0,
      "outputs": []
    },
    {
      "cell_type": "code",
      "metadata": {
        "id": "1iF4IfmVKJcN",
        "colab_type": "code",
        "colab": {}
      },
      "source": [
        "from tensorflow.keras.applications.vgg16 import preprocess_input, decode_predictions\n",
        "import cv2\n",
        "\n",
        "img_ch = cv2.merge([img, img, img])\n",
        "x = preprocess_input(img_ch)"
      ],
      "execution_count": 0,
      "outputs": []
    },
    {
      "cell_type": "code",
      "metadata": {
        "id": "9bKtgbfWKSYK",
        "colab_type": "code",
        "colab": {}
      },
      "source": [
        "preds = model.predict(img)"
      ],
      "execution_count": 0,
      "outputs": []
    },
    {
      "cell_type": "code",
      "metadata": {
        "id": "HThgYV7SLIPu",
        "colab_type": "code",
        "colab": {}
      },
      "source": [
        "last_conv_layer = model.get_layer('conv2d_25')"
      ],
      "execution_count": 0,
      "outputs": []
    },
    {
      "cell_type": "code",
      "metadata": {
        "id": "3VF8w1bxLqJm",
        "colab_type": "code",
        "colab": {}
      },
      "source": [
        "preds = model.predict(x_train[120].reshape(1, 512, 512, 1))"
      ],
      "execution_count": 0,
      "outputs": []
    },
    {
      "cell_type": "code",
      "metadata": {
        "id": "U3jHHDRkL1t1",
        "colab_type": "code",
        "outputId": "ba1ab787-c629-434d-d2f8-ff164b706267",
        "colab": {
          "base_uri": "https://localhost:8080/",
          "height": 35
        }
      },
      "source": [
        "preds[0]"
      ],
      "execution_count": 44,
      "outputs": [
        {
          "output_type": "execute_result",
          "data": {
            "text/plain": [
              "array([0.00037077], dtype=float32)"
            ]
          },
          "metadata": {
            "tags": []
          },
          "execution_count": 44
        }
      ]
    },
    {
      "cell_type": "code",
      "metadata": {
        "id": "BXgo-d0KP6aj",
        "colab_type": "code",
        "colab": {}
      },
      "source": [
        "from tensorflow.keras import backend as K\n",
        "from tensorflow.keras.preprocessing import image"
      ],
      "execution_count": 0,
      "outputs": []
    },
    {
      "cell_type": "code",
      "metadata": {
        "id": "NSapwrfSL457",
        "colab_type": "code",
        "outputId": "7d3fec53-ab9b-4044-ca18-7e1e00314998",
        "colab": {
          "base_uri": "https://localhost:8080/",
          "height": 35
        }
      },
      "source": [
        "img = x_train[250].reshape(512, 512)\n",
        "np.shape(img)"
      ],
      "execution_count": 51,
      "outputs": [
        {
          "output_type": "execute_result",
          "data": {
            "text/plain": [
              "(512, 512)"
            ]
          },
          "metadata": {
            "tags": []
          },
          "execution_count": 51
        }
      ]
    },
    {
      "cell_type": "code",
      "metadata": {
        "id": "pT3OHlbJQetT",
        "colab_type": "code",
        "colab": {}
      },
      "source": [
        "import cv2\n",
        "\n",
        "img_new = cv2.merge([img, img, img])"
      ],
      "execution_count": 0,
      "outputs": []
    },
    {
      "cell_type": "code",
      "metadata": {
        "id": "rVCOV3LNUetJ",
        "colab_type": "code",
        "outputId": "1013ee89-35ce-42c9-ccb3-d8a2d0c00b1e",
        "colab": {
          "base_uri": "https://localhost:8080/",
          "height": 35
        }
      },
      "source": [
        "np.shape(img_new)"
      ],
      "execution_count": 53,
      "outputs": [
        {
          "output_type": "execute_result",
          "data": {
            "text/plain": [
              "(512, 512, 3)"
            ]
          },
          "metadata": {
            "tags": []
          },
          "execution_count": 53
        }
      ]
    },
    {
      "cell_type": "code",
      "metadata": {
        "id": "Db2c1vvSUjXs",
        "colab_type": "code",
        "colab": {}
      },
      "source": [
        "img_tensor = np.expand_dims(img_new, axis=0)"
      ],
      "execution_count": 0,
      "outputs": []
    },
    {
      "cell_type": "code",
      "metadata": {
        "id": "6IULeJBcUpP8",
        "colab_type": "code",
        "outputId": "bcc117c4-ef4f-4c9d-9aca-8ecd938ce37c",
        "colab": {
          "base_uri": "https://localhost:8080/",
          "height": 35
        }
      },
      "source": [
        "np.shape(img_tensor)"
      ],
      "execution_count": 55,
      "outputs": [
        {
          "output_type": "execute_result",
          "data": {
            "text/plain": [
              "(1, 512, 512, 3)"
            ]
          },
          "metadata": {
            "tags": []
          },
          "execution_count": 55
        }
      ]
    },
    {
      "cell_type": "code",
      "metadata": {
        "id": "OvfoXl8zU3WB",
        "colab_type": "code",
        "colab": {}
      },
      "source": [
        "img_tensor /=np.max(img_tensor)"
      ],
      "execution_count": 0,
      "outputs": []
    },
    {
      "cell_type": "code",
      "metadata": {
        "id": "NqWQealtU9GU",
        "colab_type": "code",
        "outputId": "f7737ebc-7c38-4a90-ef08-ba13daef3db7",
        "colab": {
          "base_uri": "https://localhost:8080/",
          "height": 287
        }
      },
      "source": [
        "plt.imshow(img_tensor[0])\n",
        "plt.show()"
      ],
      "execution_count": 57,
      "outputs": [
        {
          "output_type": "stream",
          "text": [
            "Clipping input data to the valid range for imshow with RGB data ([0..1] for floats or [0..255] for integers).\n"
          ],
          "name": "stderr"
        },
        {
          "output_type": "display_data",
          "data": {
            "image/png": "[encoded data removed]",
            "text/plain": [
              "<Figure size 432x288 with 1 Axes>"
            ]
          },
          "metadata": {
            "tags": []
          }
        }
      ]
    },
    {
      "cell_type": "code",
      "metadata": {
        "id": "r8Ih_9SAVBh3",
        "colab_type": "code",
        "colab": {}
      },
      "source": [
        "from tensorflow.keras import models\n",
        "\n",
        "layer_outputs = [layer.output for layer in model.layers[:8]]"
      ],
      "execution_count": 0,
      "outputs": []
    },
    {
      "cell_type": "code",
      "metadata": {
        "id": "T2OA7otFVaH7",
        "colab_type": "code",
        "colab": {}
      },
      "source": [
        "activation_model = models.Model(inputs=model.input, outputs=layer_outputs)"
      ],
      "execution_count": 0,
      "outputs": []
    },
    {
      "cell_type": "code",
      "metadata": {
        "id": "ifZuRMlEV0s-",
        "colab_type": "code",
        "colab": {}
      },
      "source": [
        "img_tensor = img_tensor.reshape(512, 512, 3)"
      ],
      "execution_count": 0,
      "outputs": []
    },
    {
      "cell_type": "code",
      "metadata": {
        "id": "J9ttPC4sVv7U",
        "colab_type": "code",
        "colab": {}
      },
      "source": [
        "r, g, b = cv2.split(img_tensor)\n"
      ],
      "execution_count": 0,
      "outputs": []
    },
    {
      "cell_type": "code",
      "metadata": {
        "id": "diEFjO62WIm1",
        "colab_type": "code",
        "colab": {}
      },
      "source": [
        "new_img_tensor = r.reshape(1, 512, 512, 1)"
      ],
      "execution_count": 0,
      "outputs": []
    },
    {
      "cell_type": "code",
      "metadata": {
        "id": "JBN4jPknVgWF",
        "colab_type": "code",
        "colab": {}
      },
      "source": [
        "activations = activation_model.predict(new_img_tensor)"
      ],
      "execution_count": 0,
      "outputs": []
    },
    {
      "cell_type": "code",
      "metadata": {
        "id": "lEtXULnHVlYh",
        "colab_type": "code",
        "colab": {}
      },
      "source": [
        "first_layer_activation = activations[0]"
      ],
      "execution_count": 0,
      "outputs": []
    },
    {
      "cell_type": "code",
      "metadata": {
        "id": "xYTSqZSWWXPz",
        "colab_type": "code",
        "outputId": "4fa6df21-bd58-4bec-bbde-5986bc2bcdcf",
        "colab": {
          "base_uri": "https://localhost:8080/",
          "height": 35
        }
      },
      "source": [
        "np.shape(first_layer_activation)"
      ],
      "execution_count": 66,
      "outputs": [
        {
          "output_type": "execute_result",
          "data": {
            "text/plain": [
              "(1, 510, 510, 64)"
            ]
          },
          "metadata": {
            "tags": []
          },
          "execution_count": 66
        }
      ]
    },
    {
      "cell_type": "code",
      "metadata": {
        "id": "hqgv5TBlWaHu",
        "colab_type": "code",
        "outputId": "03225f63-f58d-427e-87ee-ab0830e07f89",
        "colab": {
          "base_uri": "https://localhost:8080/",
          "height": 293
        }
      },
      "source": [
        "plt.matshow(first_layer_activation[0,:,:,43], cmap='viridis')"
      ],
      "execution_count": 67,
      "outputs": [
        {
          "output_type": "execute_result",
          "data": {
            "text/plain": [
              "<matplotlib.image.AxesImage at 0x7f1121d72160>"
            ]
          },
          "metadata": {
            "tags": []
          },
          "execution_count": 67
        },
        {
          "output_type": "display_data",
          "data": {
            "image/png": "[encoded data removed]",
            "text/plain": [
              "<Figure size 288x288 with 1 Axes>"
            ]
          },
          "metadata": {
            "tags": []
          }
        }
      ]
    },
    {
      "cell_type": "code",
      "metadata": {
        "id": "N7CErFbtWpNq",
        "colab_type": "code",
        "colab": {}
      },
      "source": [
        "second_layer_activation = activations[1]"
      ],
      "execution_count": 0,
      "outputs": []
    },
    {
      "cell_type": "code",
      "metadata": {
        "id": "WpPg6O2Tnl4l",
        "colab_type": "code",
        "outputId": "6fe110e9-decd-4115-c546-c195257786d8",
        "colab": {
          "base_uri": "https://localhost:8080/",
          "height": 35
        }
      },
      "source": [
        "np.shape(second_layer_activation)"
      ],
      "execution_count": 69,
      "outputs": [
        {
          "output_type": "execute_result",
          "data": {
            "text/plain": [
              "(1, 508, 508, 64)"
            ]
          },
          "metadata": {
            "tags": []
          },
          "execution_count": 69
        }
      ]
    },
    {
      "cell_type": "code",
      "metadata": {
        "id": "g3Ft_oWWnWRF",
        "colab_type": "code",
        "outputId": "39ad42f6-ac81-443b-c8d8-7c4a1f2daeff",
        "colab": {
          "base_uri": "https://localhost:8080/",
          "height": 293
        }
      },
      "source": [
        "plt.matshow(second_layer_activation[0,:,:,14], cmap='viridis')"
      ],
      "execution_count": 70,
      "outputs": [
        {
          "output_type": "execute_result",
          "data": {
            "text/plain": [
              "<matplotlib.image.AxesImage at 0x7f1121d49780>"
            ]
          },
          "metadata": {
            "tags": []
          },
          "execution_count": 70
        },
        {
          "output_type": "display_data",
          "data": {
            "image/png": "[encoded data removed]",
            "text/plain": [
              "<Figure size 288x288 with 1 Axes>"
            ]
          },
          "metadata": {
            "tags": []
          }
        }
      ]
    },
    {
      "cell_type": "code",
      "metadata": {
        "id": "UC5b8mLknqpH",
        "colab_type": "code",
        "outputId": "6dce19f3-58ef-40e3-d33d-8642b92f60a9",
        "colab": {
          "base_uri": "https://localhost:8080/",
          "height": 35
        }
      },
      "source": [
        "len(activations)"
      ],
      "execution_count": 71,
      "outputs": [
        {
          "output_type": "execute_result",
          "data": {
            "text/plain": [
              "8"
            ]
          },
          "metadata": {
            "tags": []
          },
          "execution_count": 71
        }
      ]
    },
    {
      "cell_type": "code",
      "metadata": {
        "id": "BjZlNIaBoOcQ",
        "colab_type": "code",
        "colab": {}
      },
      "source": [
        "eighth_layer_activation  = activations[7]"
      ],
      "execution_count": 0,
      "outputs": []
    },
    {
      "cell_type": "code",
      "metadata": {
        "id": "ql3Q-zoPoc4E",
        "colab_type": "code",
        "outputId": "579cbad3-e7c0-485d-b6a1-f830415bd8ac",
        "colab": {
          "base_uri": "https://localhost:8080/",
          "height": 35
        }
      },
      "source": [
        "np.shape(eighth_layer_activation)"
      ],
      "execution_count": 73,
      "outputs": [
        {
          "output_type": "execute_result",
          "data": {
            "text/plain": [
              "(1, 121, 121, 256)"
            ]
          },
          "metadata": {
            "tags": []
          },
          "execution_count": 73
        }
      ]
    },
    {
      "cell_type": "code",
      "metadata": {
        "id": "tNGVgCgKogZO",
        "colab_type": "code",
        "outputId": "753e44bf-5470-49ec-8976-576042e4ee48",
        "colab": {
          "base_uri": "https://localhost:8080/",
          "height": 294
        }
      },
      "source": [
        "plt.matshow(eighth_layer_activation[0,:,:,100], cmap='viridis')"
      ],
      "execution_count": 74,
      "outputs": [
        {
          "output_type": "execute_result",
          "data": {
            "text/plain": [
              "<matplotlib.image.AxesImage at 0x7f1121ca3ef0>"
            ]
          },
          "metadata": {
            "tags": []
          },
          "execution_count": 74
        },
        {
          "output_type": "display_data",
          "data": {
            "image/png": "[encoded data removed]",
            "text/plain": [
              "<Figure size 288x288 with 1 Axes>"
            ]
          },
          "metadata": {
            "tags": []
          }
        }
      ]
    },
    {
      "cell_type": "code",
      "metadata": {
        "id": "NFxEJhrUojZt",
        "colab_type": "code",
        "colab": {}
      },
      "source": [
        ""
      ],
      "execution_count": 0,
      "outputs": []
    }
  ]
}