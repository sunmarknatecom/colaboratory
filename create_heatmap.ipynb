{
  "nbformat": 4,
  "nbformat_minor": 0,
  "metadata": {
    "colab": {
      "name": "create_heatmap.ipynb",
      "provenance": [],
      "collapsed_sections": [],
      "authorship_tag": "ABX9TyN0U7XRM8ib4G07MJxgblzA",
      "include_colab_link": true
    },
    "kernelspec": {
      "name": "python3",
      "display_name": "Python 3"
    }
  },
  "cells": [
    {
      "cell_type": "markdown",
      "metadata": {
        "id": "view-in-github",
        "colab_type": "text"
      },
      "source": [
        "<a href=\"https://colab.research.google.com/github/sunmarknatecom/colaboratory/blob/master/create_heatmap.ipynb\" target=\"_parent\"><img src=\"https://colab.research.google.com/assets/colab-badge.svg\" alt=\"Open In Colab\"/></a>"
      ]
    },
    {
      "cell_type": "markdown",
      "metadata": {
        "id": "EVfF10wtCnjr",
        "colab_type": "text"
      },
      "source": [
        "### refernce: https://stackoverflow.com/questions/58322147/how-to-generate-cnn-heatmaps-using-built-in-keras-in-tf2-0-tf-keras"
      ]
    },
    {
      "cell_type": "code",
      "metadata": {
        "id": "QGoC98K97LdL",
        "colab_type": "code",
        "outputId": "08a10f90-fc56-4c82-b438-4d3733084ebd",
        "colab": {
          "base_uri": "https://localhost:8080/",
          "height": 64
        }
      },
      "source": [
        "from tensorflow.keras.applications.vgg16 import preprocess_input\n",
        "from tensorflow.keras.preprocessing.image import load_img\n",
        "from tensorflow.keras.models import load_model\n",
        "\n",
        "from tensorflow.keras import preprocessing\n",
        "from tensorflow.keras import backend as K\n",
        "from tensorflow.keras import models\n",
        "\n",
        "import tensorflow as tf\n",
        "import numpy as np"
      ],
      "execution_count": 0,
      "outputs": [
        {
          "output_type": "display_data",
          "data": {
            "text/html": [
              "<p style=\"color: red;\">\n",
              "The default version of TensorFlow in Colab will soon switch to TensorFlow 2.x.<br>\n",
              "We recommend you <a href=\"https://www.tensorflow.org/guide/migrate\" target=\"_blank\">upgrade</a> now \n",
              "or ensure your notebook will continue to use TensorFlow 1.x via the <code>%tensorflow_version 1.x</code> magic:\n",
              "<a href=\"https://colab.research.google.com/notebooks/tensorflow_version.ipynb\" target=\"_blank\">more info</a>.</p>\n"
            ],
            "text/plain": [
              "<IPython.core.display.HTML object>"
            ]
          },
          "metadata": {
            "tags": []
          }
        }
      ]
    },
    {
      "cell_type": "code",
      "metadata": {
        "id": "OjJg97d87SZ0",
        "colab_type": "code",
        "colab": {}
      },
      "source": [
        "image_size = 224"
      ],
      "execution_count": 0,
      "outputs": []
    },
    {
      "cell_type": "markdown",
      "metadata": {
        "id": "z0p-QSwu7ZmK",
        "colab_type": "text"
      },
      "source": [
        "#### [] Load pre-trained Keras model and the image to classify"
      ]
    },
    {
      "cell_type": "code",
      "metadata": {
        "id": "g_3OL4ap7TYZ",
        "colab_type": "code",
        "outputId": "18de59ad-c846-4b36-e111-e4ea70dd6ba7",
        "colab": {
          "base_uri": "https://localhost:8080/",
          "height": 973
        }
      },
      "source": [
        "model = tf.keras.applications.vgg16.VGG16()\n",
        "image = np.random.random((image_size, image_size, 3))\n",
        "image"
      ],
      "execution_count": 0,
      "outputs": [
        {
          "output_type": "stream",
          "text": [
            "WARNING:tensorflow:From /usr/local/lib/python3.6/dist-packages/tensorflow_core/python/ops/resource_variable_ops.py:1630: calling BaseResourceVariable.__init__ (from tensorflow.python.ops.resource_variable_ops) with constraint is deprecated and will be removed in a future version.\n",
            "Instructions for updating:\n",
            "If using Keras pass *_constraint arguments to layers.\n"
          ],
          "name": "stdout"
        },
        {
          "output_type": "execute_result",
          "data": {
            "text/plain": [
              "array([[[4.50362359e-01, 5.76696259e-01, 4.70385729e-01],\n",
              "        [4.84771944e-01, 7.44203233e-01, 2.51244972e-01],\n",
              "        [4.31353114e-01, 6.08631698e-01, 4.06229310e-01],\n",
              "        ...,\n",
              "        [5.61766106e-01, 5.74032561e-01, 6.10594910e-01],\n",
              "        [5.55889038e-01, 4.38008498e-02, 7.75020853e-01],\n",
              "        [6.51884374e-01, 7.12927860e-01, 9.09527752e-01]],\n",
              "\n",
              "       [[3.57668607e-01, 8.77291009e-01, 5.48217638e-01],\n",
              "        [8.38151006e-01, 8.19322661e-01, 9.30846540e-01],\n",
              "        [3.36308249e-01, 4.15647415e-01, 3.30619122e-01],\n",
              "        ...,\n",
              "        [1.66606025e-01, 3.84502898e-01, 9.85213761e-02],\n",
              "        [8.14168558e-01, 8.77928985e-01, 4.59049508e-01],\n",
              "        [5.26700522e-01, 7.99410256e-02, 1.58458920e-01]],\n",
              "\n",
              "       [[1.93380119e-01, 8.80393329e-01, 7.75824690e-01],\n",
              "        [5.21735587e-01, 9.07217031e-01, 5.27992768e-01],\n",
              "        [1.78064661e-01, 4.12239062e-02, 9.84864150e-02],\n",
              "        ...,\n",
              "        [5.36878811e-01, 9.19834690e-01, 7.98322935e-01],\n",
              "        [8.98167262e-01, 9.32264777e-04, 1.49824596e-01],\n",
              "        [9.67906506e-01, 4.96728827e-01, 8.55260140e-01]],\n",
              "\n",
              "       ...,\n",
              "\n",
              "       [[6.23035581e-01, 9.45803338e-01, 1.42778720e-01],\n",
              "        [3.81106055e-01, 5.55436717e-01, 2.74190809e-01],\n",
              "        [6.13179020e-01, 3.89049704e-01, 9.01352740e-03],\n",
              "        ...,\n",
              "        [6.19489241e-01, 2.81241546e-02, 6.28443033e-01],\n",
              "        [2.69670541e-01, 4.76325011e-01, 2.64109317e-01],\n",
              "        [5.87950397e-01, 3.08143062e-02, 1.32692619e-01]],\n",
              "\n",
              "       [[8.28289696e-01, 2.43687927e-01, 2.26411788e-01],\n",
              "        [5.16590751e-01, 1.24038223e-01, 8.20417358e-01],\n",
              "        [7.28668235e-01, 3.01446546e-01, 3.83015815e-01],\n",
              "        ...,\n",
              "        [3.24501389e-01, 9.24433716e-02, 8.21649259e-01],\n",
              "        [5.72928980e-01, 2.04010132e-01, 5.90150628e-01],\n",
              "        [2.08299864e-01, 6.31934868e-01, 3.46489099e-01]],\n",
              "\n",
              "       [[8.74585519e-01, 4.03417669e-01, 4.51228779e-01],\n",
              "        [1.44129043e-01, 1.54006563e-01, 3.07030693e-01],\n",
              "        [7.88148512e-01, 6.19797700e-01, 8.09175016e-01],\n",
              "        ...,\n",
              "        [9.61846157e-01, 7.31461130e-01, 8.49445296e-01],\n",
              "        [2.24675455e-01, 7.91529373e-01, 2.55885526e-01],\n",
              "        [2.27810464e-01, 8.40444263e-01, 6.60892232e-02]]])"
            ]
          },
          "metadata": {
            "tags": []
          },
          "execution_count": 3
        }
      ]
    },
    {
      "cell_type": "code",
      "metadata": {
        "id": "Z6a08AnP9sEp",
        "colab_type": "code",
        "outputId": "438bfa8c-6025-432b-94b8-a8fd38c27e1b",
        "colab": {
          "base_uri": "https://localhost:8080/",
          "height": 35
        }
      },
      "source": [
        "np.shape(image)"
      ],
      "execution_count": 0,
      "outputs": [
        {
          "output_type": "execute_result",
          "data": {
            "text/plain": [
              "(224, 224, 3)"
            ]
          },
          "metadata": {
            "tags": []
          },
          "execution_count": 4
        }
      ]
    },
    {
      "cell_type": "code",
      "metadata": {
        "id": "wBHkz5wn9i07",
        "colab_type": "code",
        "outputId": "c1c0bbc1-6567-475b-d1ff-ac905e82e110",
        "colab": {
          "base_uri": "https://localhost:8080/",
          "height": 899
        }
      },
      "source": [
        "img_tensor = preprocessing.image.img_to_array(image)\n",
        "img_tensor"
      ],
      "execution_count": 0,
      "outputs": [
        {
          "output_type": "execute_result",
          "data": {
            "text/plain": [
              "array([[[4.5036235e-01, 5.7669628e-01, 4.7038573e-01],\n",
              "        [4.8477194e-01, 7.4420321e-01, 2.5124496e-01],\n",
              "        [4.3135312e-01, 6.0863167e-01, 4.0622932e-01],\n",
              "        ...,\n",
              "        [5.6176609e-01, 5.7403255e-01, 6.1059493e-01],\n",
              "        [5.5588901e-01, 4.3800849e-02, 7.7502084e-01],\n",
              "        [6.5188438e-01, 7.1292788e-01, 9.0952778e-01]],\n",
              "\n",
              "       [[3.5766861e-01, 8.7729102e-01, 5.4821765e-01],\n",
              "        [8.3815098e-01, 8.1932265e-01, 9.3084651e-01],\n",
              "        [3.3630824e-01, 4.1564742e-01, 3.3061913e-01],\n",
              "        ...,\n",
              "        [1.6660602e-01, 3.8450289e-01, 9.8521374e-02],\n",
              "        [8.1416857e-01, 8.7792897e-01, 4.5904949e-01],\n",
              "        [5.2670050e-01, 7.9941027e-02, 1.5845892e-01]],\n",
              "\n",
              "       [[1.9338012e-01, 8.8039333e-01, 7.7582467e-01],\n",
              "        [5.2173561e-01, 9.0721703e-01, 5.2799278e-01],\n",
              "        [1.7806466e-01, 4.1223906e-02, 9.8486416e-02],\n",
              "        ...,\n",
              "        [5.3687882e-01, 9.1983467e-01, 7.9832292e-01],\n",
              "        [8.9816725e-01, 9.3226478e-04, 1.4982459e-01],\n",
              "        [9.6790653e-01, 4.9672884e-01, 8.5526013e-01]],\n",
              "\n",
              "       ...,\n",
              "\n",
              "       [[6.2303561e-01, 9.4580334e-01, 1.4277872e-01],\n",
              "        [3.8110605e-01, 5.5543673e-01, 2.7419081e-01],\n",
              "        [6.1317903e-01, 3.8904971e-01, 9.0135271e-03],\n",
              "        ...,\n",
              "        [6.1948925e-01, 2.8124155e-02, 6.2844306e-01],\n",
              "        [2.6967055e-01, 4.7632501e-01, 2.6410931e-01],\n",
              "        [5.8795041e-01, 3.0814307e-02, 1.3269262e-01]],\n",
              "\n",
              "       [[8.2828969e-01, 2.4368793e-01, 2.2641179e-01],\n",
              "        [5.1659077e-01, 1.2403823e-01, 8.2041734e-01],\n",
              "        [7.2866821e-01, 3.0144656e-01, 3.8301581e-01],\n",
              "        ...,\n",
              "        [3.2450140e-01, 9.2443369e-02, 8.2164925e-01],\n",
              "        [5.7292897e-01, 2.0401013e-01, 5.9015065e-01],\n",
              "        [2.0829986e-01, 6.3193488e-01, 3.4648910e-01]],\n",
              "\n",
              "       [[8.7458551e-01, 4.0341768e-01, 4.5122877e-01],\n",
              "        [1.4412904e-01, 1.5400657e-01, 3.0703071e-01],\n",
              "        [7.8814852e-01, 6.1979771e-01, 8.0917501e-01],\n",
              "        ...,\n",
              "        [9.6184617e-01, 7.3146111e-01, 8.4944528e-01],\n",
              "        [2.2467546e-01, 7.9152936e-01, 2.5588551e-01],\n",
              "        [2.2781046e-01, 8.4044427e-01, 6.6089220e-02]]], dtype=float32)"
            ]
          },
          "metadata": {
            "tags": []
          },
          "execution_count": 5
        }
      ]
    },
    {
      "cell_type": "code",
      "metadata": {
        "id": "rWLYGf6x9zVR",
        "colab_type": "code",
        "outputId": "70025e78-596e-4a68-a714-302933fbfe9e",
        "colab": {
          "base_uri": "https://localhost:8080/",
          "height": 35
        }
      },
      "source": [
        "np.shape(img_tensor)"
      ],
      "execution_count": 0,
      "outputs": [
        {
          "output_type": "execute_result",
          "data": {
            "text/plain": [
              "(224, 224, 3)"
            ]
          },
          "metadata": {
            "tags": []
          },
          "execution_count": 6
        }
      ]
    },
    {
      "cell_type": "code",
      "metadata": {
        "id": "hQ41OrYs9lKK",
        "colab_type": "code",
        "outputId": "a8f71de2-a97f-4c6b-dcb0-f78226e4c5be",
        "colab": {
          "base_uri": "https://localhost:8080/",
          "height": 35
        }
      },
      "source": [
        "img_tensor = np.expand_dims(img_tensor, axis=0)\n",
        "np.shape(img_tensor)"
      ],
      "execution_count": 0,
      "outputs": [
        {
          "output_type": "execute_result",
          "data": {
            "text/plain": [
              "(1, 224, 224, 3)"
            ]
          },
          "metadata": {
            "tags": []
          },
          "execution_count": 7
        }
      ]
    },
    {
      "cell_type": "code",
      "metadata": {
        "id": "P9cUt9fg-Eix",
        "colab_type": "code",
        "outputId": "d5dff68d-a8bf-46ea-c7b1-4e34bdf27711",
        "colab": {
          "base_uri": "https://localhost:8080/",
          "height": 899
        }
      },
      "source": [
        "img_tensor"
      ],
      "execution_count": 0,
      "outputs": [
        {
          "output_type": "execute_result",
          "data": {
            "text/plain": [
              "array([[[[4.5036235e-01, 5.7669628e-01, 4.7038573e-01],\n",
              "         [4.8477194e-01, 7.4420321e-01, 2.5124496e-01],\n",
              "         [4.3135312e-01, 6.0863167e-01, 4.0622932e-01],\n",
              "         ...,\n",
              "         [5.6176609e-01, 5.7403255e-01, 6.1059493e-01],\n",
              "         [5.5588901e-01, 4.3800849e-02, 7.7502084e-01],\n",
              "         [6.5188438e-01, 7.1292788e-01, 9.0952778e-01]],\n",
              "\n",
              "        [[3.5766861e-01, 8.7729102e-01, 5.4821765e-01],\n",
              "         [8.3815098e-01, 8.1932265e-01, 9.3084651e-01],\n",
              "         [3.3630824e-01, 4.1564742e-01, 3.3061913e-01],\n",
              "         ...,\n",
              "         [1.6660602e-01, 3.8450289e-01, 9.8521374e-02],\n",
              "         [8.1416857e-01, 8.7792897e-01, 4.5904949e-01],\n",
              "         [5.2670050e-01, 7.9941027e-02, 1.5845892e-01]],\n",
              "\n",
              "        [[1.9338012e-01, 8.8039333e-01, 7.7582467e-01],\n",
              "         [5.2173561e-01, 9.0721703e-01, 5.2799278e-01],\n",
              "         [1.7806466e-01, 4.1223906e-02, 9.8486416e-02],\n",
              "         ...,\n",
              "         [5.3687882e-01, 9.1983467e-01, 7.9832292e-01],\n",
              "         [8.9816725e-01, 9.3226478e-04, 1.4982459e-01],\n",
              "         [9.6790653e-01, 4.9672884e-01, 8.5526013e-01]],\n",
              "\n",
              "        ...,\n",
              "\n",
              "        [[6.2303561e-01, 9.4580334e-01, 1.4277872e-01],\n",
              "         [3.8110605e-01, 5.5543673e-01, 2.7419081e-01],\n",
              "         [6.1317903e-01, 3.8904971e-01, 9.0135271e-03],\n",
              "         ...,\n",
              "         [6.1948925e-01, 2.8124155e-02, 6.2844306e-01],\n",
              "         [2.6967055e-01, 4.7632501e-01, 2.6410931e-01],\n",
              "         [5.8795041e-01, 3.0814307e-02, 1.3269262e-01]],\n",
              "\n",
              "        [[8.2828969e-01, 2.4368793e-01, 2.2641179e-01],\n",
              "         [5.1659077e-01, 1.2403823e-01, 8.2041734e-01],\n",
              "         [7.2866821e-01, 3.0144656e-01, 3.8301581e-01],\n",
              "         ...,\n",
              "         [3.2450140e-01, 9.2443369e-02, 8.2164925e-01],\n",
              "         [5.7292897e-01, 2.0401013e-01, 5.9015065e-01],\n",
              "         [2.0829986e-01, 6.3193488e-01, 3.4648910e-01]],\n",
              "\n",
              "        [[8.7458551e-01, 4.0341768e-01, 4.5122877e-01],\n",
              "         [1.4412904e-01, 1.5400657e-01, 3.0703071e-01],\n",
              "         [7.8814852e-01, 6.1979771e-01, 8.0917501e-01],\n",
              "         ...,\n",
              "         [9.6184617e-01, 7.3146111e-01, 8.4944528e-01],\n",
              "         [2.2467546e-01, 7.9152936e-01, 2.5588551e-01],\n",
              "         [2.2781046e-01, 8.4044427e-01, 6.6089220e-02]]]], dtype=float32)"
            ]
          },
          "metadata": {
            "tags": []
          },
          "execution_count": 8
        }
      ]
    },
    {
      "cell_type": "code",
      "metadata": {
        "id": "9A7hbzjq-A_C",
        "colab_type": "code",
        "outputId": "9d0fcd01-0b41-4bdb-d745-d1bf2de1d165",
        "colab": {
          "base_uri": "https://localhost:8080/",
          "height": 35
        }
      },
      "source": [
        "img_tensor = preprocess_input(img_tensor)\n",
        "np.shape(img_tensor)"
      ],
      "execution_count": 0,
      "outputs": [
        {
          "output_type": "execute_result",
          "data": {
            "text/plain": [
              "(1, 224, 224, 3)"
            ]
          },
          "metadata": {
            "tags": []
          },
          "execution_count": 9
        }
      ]
    },
    {
      "cell_type": "code",
      "metadata": {
        "id": "rRjOfkpt_JNE",
        "colab_type": "code",
        "outputId": "06b4fa43-e06b-4f3b-d429-36705f9780aa",
        "colab": {
          "base_uri": "https://localhost:8080/",
          "height": 899
        }
      },
      "source": [
        "img_tensor"
      ],
      "execution_count": 0,
      "outputs": [
        {
          "output_type": "execute_result",
          "data": {
            "text/plain": [
              "array([[[[-103.46862 , -116.2023  , -123.22964 ],\n",
              "         [-103.68776 , -116.0348  , -123.19523 ],\n",
              "         [-103.532776, -116.170364, -123.24865 ],\n",
              "         ...,\n",
              "         [-103.32841 , -116.20496 , -123.11823 ],\n",
              "         [-103.16398 , -116.7352  , -123.124115],\n",
              "         [-103.02947 , -116.06607 , -123.028114]],\n",
              "\n",
              "        [[-103.390785, -115.90171 , -123.322334],\n",
              "         [-103.008156, -115.95968 , -122.84185 ],\n",
              "         [-103.60838 , -116.36335 , -123.34369 ],\n",
              "         ...,\n",
              "         [-103.840485, -116.39449 , -123.5134  ],\n",
              "         [-103.47995 , -115.90107 , -122.86583 ],\n",
              "         [-103.78054 , -116.69906 , -123.1533  ]],\n",
              "\n",
              "        [[-103.16318 , -115.898605, -123.48662 ],\n",
              "         [-103.41101 , -115.87178 , -123.158264],\n",
              "         [-103.840515, -116.73778 , -123.50194 ],\n",
              "         ...,\n",
              "         [-103.14068 , -115.85916 , -123.14312 ],\n",
              "         [-103.78918 , -116.77807 , -122.78183 ],\n",
              "         [-103.08374 , -116.28227 , -122.7121  ]],\n",
              "\n",
              "        ...,\n",
              "\n",
              "        [[-103.79623 , -115.8332  , -123.05696 ],\n",
              "         [-103.66481 , -116.223564, -123.2989  ],\n",
              "         [-103.92999 , -116.389946, -123.06682 ],\n",
              "         ...,\n",
              "         [-103.31056 , -116.75088 , -123.06051 ],\n",
              "         [-103.6749  , -116.30267 , -123.41033 ],\n",
              "         [-103.80631 , -116.748184, -123.09205 ]],\n",
              "\n",
              "        [[-103.71259 , -116.53531 , -122.85171 ],\n",
              "         [-103.11858 , -116.65496 , -123.16341 ],\n",
              "         [-103.555984, -116.477554, -122.95133 ],\n",
              "         ...,\n",
              "         [-103.117355, -116.686554, -123.3555  ],\n",
              "         [-103.348854, -116.57499 , -123.10707 ],\n",
              "         [-103.592514, -116.147064, -123.4717  ]],\n",
              "\n",
              "        [[-103.48778 , -116.37558 , -122.80541 ],\n",
              "         [-103.63197 , -116.62499 , -123.53587 ],\n",
              "         [-103.12983 , -116.1592  , -122.89185 ],\n",
              "         ...,\n",
              "         [-103.08956 , -116.04754 , -122.718155],\n",
              "         [-103.68312 , -115.98747 , -123.45532 ],\n",
              "         [-103.87292 , -115.93855 , -123.45219 ]]]], dtype=float32)"
            ]
          },
          "metadata": {
            "tags": []
          },
          "execution_count": 10
        }
      ]
    },
    {
      "cell_type": "code",
      "metadata": {
        "id": "VVS1gHqJA5q0",
        "colab_type": "code",
        "outputId": "685df230-f585-4c98-ff54-5ce9eb59390e",
        "colab": {
          "base_uri": "https://localhost:8080/",
          "height": 35
        }
      },
      "source": [
        "np.shape(img_tensor)"
      ],
      "execution_count": 0,
      "outputs": [
        {
          "output_type": "execute_result",
          "data": {
            "text/plain": [
              "(1, 224, 224, 3)"
            ]
          },
          "metadata": {
            "tags": []
          },
          "execution_count": 11
        }
      ]
    },
    {
      "cell_type": "code",
      "metadata": {
        "id": "RdAnFQmS7Uxi",
        "colab_type": "code",
        "colab": {}
      },
      "source": [
        "conv_layer = model.get_layer(\"block5_conv3\")\n",
        "heatmap_model = models.Model([model.inputs], [conv_layer.output, model.output])"
      ],
      "execution_count": 0,
      "outputs": []
    },
    {
      "cell_type": "code",
      "metadata": {
        "id": "vNFSk7-NmU_D",
        "colab_type": "code",
        "outputId": "b5febc46-5486-4d69-e103-3cf10671023d",
        "colab": {
          "base_uri": "https://localhost:8080/",
          "height": 989
        }
      },
      "source": [
        "heatmap_model.summary()"
      ],
      "execution_count": 0,
      "outputs": [
        {
          "output_type": "stream",
          "text": [
            "Model: \"model\"\n",
            "_________________________________________________________________\n",
            "Layer (type)                 Output Shape              Param #   \n",
            "=================================================================\n",
            "input_1 (InputLayer)         [(None, 224, 224, 3)]     0         \n",
            "_________________________________________________________________\n",
            "block1_conv1 (Conv2D)        (None, 224, 224, 64)      1792      \n",
            "_________________________________________________________________\n",
            "block1_conv2 (Conv2D)        (None, 224, 224, 64)      36928     \n",
            "_________________________________________________________________\n",
            "block1_pool (MaxPooling2D)   (None, 112, 112, 64)      0         \n",
            "_________________________________________________________________\n",
            "block2_conv1 (Conv2D)        (None, 112, 112, 128)     73856     \n",
            "_________________________________________________________________\n",
            "block2_conv2 (Conv2D)        (None, 112, 112, 128)     147584    \n",
            "_________________________________________________________________\n",
            "block2_pool (MaxPooling2D)   (None, 56, 56, 128)       0         \n",
            "_________________________________________________________________\n",
            "block3_conv1 (Conv2D)        (None, 56, 56, 256)       295168    \n",
            "_________________________________________________________________\n",
            "block3_conv2 (Conv2D)        (None, 56, 56, 256)       590080    \n",
            "_________________________________________________________________\n",
            "block3_conv3 (Conv2D)        (None, 56, 56, 256)       590080    \n",
            "_________________________________________________________________\n",
            "block3_pool (MaxPooling2D)   (None, 28, 28, 256)       0         \n",
            "_________________________________________________________________\n",
            "block4_conv1 (Conv2D)        (None, 28, 28, 512)       1180160   \n",
            "_________________________________________________________________\n",
            "block4_conv2 (Conv2D)        (None, 28, 28, 512)       2359808   \n",
            "_________________________________________________________________\n",
            "block4_conv3 (Conv2D)        (None, 28, 28, 512)       2359808   \n",
            "_________________________________________________________________\n",
            "block4_pool (MaxPooling2D)   (None, 14, 14, 512)       0         \n",
            "_________________________________________________________________\n",
            "block5_conv1 (Conv2D)        (None, 14, 14, 512)       2359808   \n",
            "_________________________________________________________________\n",
            "block5_conv2 (Conv2D)        (None, 14, 14, 512)       2359808   \n",
            "_________________________________________________________________\n",
            "block5_conv3 (Conv2D)        (None, 14, 14, 512)       2359808   \n",
            "_________________________________________________________________\n",
            "block5_pool (MaxPooling2D)   (None, 7, 7, 512)         0         \n",
            "_________________________________________________________________\n",
            "flatten (Flatten)            (None, 25088)             0         \n",
            "_________________________________________________________________\n",
            "fc1 (Dense)                  (None, 4096)              102764544 \n",
            "_________________________________________________________________\n",
            "fc2 (Dense)                  (None, 4096)              16781312  \n",
            "_________________________________________________________________\n",
            "predictions (Dense)          (None, 1000)              4097000   \n",
            "=================================================================\n",
            "Total params: 138,357,544\n",
            "Trainable params: 138,357,544\n",
            "Non-trainable params: 0\n",
            "_________________________________________________________________\n"
          ],
          "name": "stdout"
        }
      ]
    },
    {
      "cell_type": "code",
      "metadata": {
        "id": "48s79EsGDBF7",
        "colab_type": "code",
        "colab": {}
      },
      "source": [
        "with tf.GradientTape() as gtape:\n",
        "    conv_output, predictions = heatmap_model(img_tensor)\n",
        "    loss = predictions[:, K.argmax(predictions[0])]\n",
        "    grads = gtape.gradient(loss, conv_output)\n",
        "    pooled_grads = K.mean(grads, axis=(0, 1, 2))"
      ],
      "execution_count": 0,
      "outputs": []
    },
    {
      "cell_type": "markdown",
      "metadata": {
        "id": "F8CaUdiT7g1h",
        "colab_type": "text"
      },
      "source": [
        "### [] Get gradient of the winner class w.r.t. the output of the (last) conv. layer"
      ]
    },
    {
      "cell_type": "markdown",
      "metadata": {
        "id": "Q7ZHsWTEEFl6",
        "colab_type": "text"
      },
      "source": [
        "### np."
      ]
    },
    {
      "cell_type": "code",
      "metadata": {
        "id": "YC-ZWAwj7llp",
        "colab_type": "code",
        "outputId": "2858f89d-3afd-4cc1-86a9-d4b4873354d6",
        "colab": {
          "base_uri": "https://localhost:8080/",
          "height": 35
        }
      },
      "source": [
        "heatmap = tf.reduce_mean(tf.multiply(pooled_grads, conv_output), axis=-1)\n",
        "heatmap = K.maximum(heatmap, 0)\n",
        "max_heat = K.max(heatmap)\n",
        "if max_heat == 0:\n",
        "    max_heat = 1e-10\n",
        "heatmap /= max_heat\n",
        "\n",
        "print(heatmap.shape)"
      ],
      "execution_count": 0,
      "outputs": [
        {
          "output_type": "stream",
          "text": [
            "(1, 14, 14)\n"
          ],
          "name": "stdout"
        }
      ]
    },
    {
      "cell_type": "code",
      "metadata": {
        "id": "O77sLOig7nTx",
        "colab_type": "code",
        "outputId": "cfe9737c-383d-4a06-886a-2f4c8c64ca6f",
        "colab": {
          "base_uri": "https://localhost:8080/",
          "height": 35
        }
      },
      "source": [
        "heatmap"
      ],
      "execution_count": 0,
      "outputs": [
        {
          "output_type": "execute_result",
          "data": {
            "text/plain": [
              "<tf.Tensor 'truediv:0' shape=(1, 14, 14) dtype=float32>"
            ]
          },
          "metadata": {
            "tags": []
          },
          "execution_count": 23
        }
      ]
    },
    {
      "cell_type": "code",
      "metadata": {
        "id": "0NrkIBi4D2kt",
        "colab_type": "code",
        "colab": {}
      },
      "source": [
        ""
      ],
      "execution_count": 0,
      "outputs": []
    }
  ]
}